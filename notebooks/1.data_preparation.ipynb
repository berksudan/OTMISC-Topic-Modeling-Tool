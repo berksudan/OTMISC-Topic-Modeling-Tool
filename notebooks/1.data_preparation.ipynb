{
 "cells": [
  {
   "cell_type": "markdown",
   "id": "0ea6d62f",
   "metadata": {},
   "source": [
    "## 0. Code Setup and Helper Functions"
   ]
  },
  {
   "cell_type": "markdown",
   "id": "16b2248c",
   "metadata": {},
   "source": [
    "### 0.1 Import all necessary packages"
   ]
  },
  {
   "cell_type": "code",
   "execution_count": 38,
   "id": "4c300695",
   "metadata": {},
   "outputs": [],
   "source": [
    "import os\n",
    "import zlib\n",
    "import pickle as pkl\n",
    "import sklearn"
   ]
  },
  {
   "cell_type": "markdown",
   "id": "6a64ffab",
   "metadata": {},
   "source": [
    "### 0.2 Path Adjustments"
   ]
  },
  {
   "cell_type": "code",
   "execution_count": 32,
   "id": "3994b950",
   "metadata": {},
   "outputs": [
    {
     "name": "stdout",
     "output_type": "stream",
     "text": [
      "[INFO] Current Directory: \"/home/iceking/Desktop/22SS-TUM Lecture Docs/3. Master's Practical Course - Machine Learning for Natural Language Processing Applications (IN2106, IN4249)/Repo/topic-modeling-advancements\".\n"
     ]
    }
   ],
   "source": [
    "if os.getcwd().endswith('/notebooks'):\n",
    "    os.chdir('..')\n",
    "\n",
    "assert os.path.exists('./src'), f\"[ERROR] The path src not detected in the current directory '{os.getcwd()}'.\"\n",
    "\n",
    "print(f'[INFO] Current Directory: \"{os.getcwd()}\".')"
   ]
  },
  {
   "cell_type": "markdown",
   "id": "2d8176ff",
   "metadata": {},
   "source": [
    "## 1. Draft"
   ]
  },
  {
   "cell_type": "code",
   "execution_count": 35,
   "id": "8b169904",
   "metadata": {},
   "outputs": [],
   "source": [
    "decompressed_pkl = zlib.decompress(open('./data/20news_bydate/20news-bydate_py3.pkz','rb').read())\n",
    "\n",
    "data = pkl.loads(decompressed_pkl)"
   ]
  },
  {
   "cell_type": "code",
   "execution_count": 54,
   "id": "af01ec7b",
   "metadata": {},
   "outputs": [],
   "source": [
    "x = data['train'] # type: sklearn.utils.Bunch"
   ]
  },
  {
   "cell_type": "code",
   "execution_count": 55,
   "id": "81f29857",
   "metadata": {},
   "outputs": [
    {
     "data": {
      "text/plain": [
       "11314"
      ]
     },
     "execution_count": 55,
     "metadata": {},
     "output_type": "execute_result"
    }
   ],
   "source": [
    "len(x.filenames)"
   ]
  },
  {
   "cell_type": "code",
   "execution_count": 62,
   "id": "47abae08",
   "metadata": {},
   "outputs": [
    {
     "data": {
      "text/plain": [
       "\"From: cubbie@garnet.berkeley.edu (                               )\\nSubject: Re: Cubs behind Marlins? How?\\nArticle-I.D.: agate.1pt592$f9a\\nOrganization: University of California, Berkeley\\nLines: 12\\nNNTP-Posting-Host: garnet.berkeley.edu\\n\\n\\ngajarsky@pilot.njin.net writes:\\n\\nmorgan and guzman will have era's 1 run higher than last year, and\\n the cubs will be idiots and not pitch harkey as much as hibbard.\\n castillo won't be good (i think he's a stud pitcher)\\n\\n       This season so far, Morgan and Guzman helped to lead the Cubs\\n       at top in ERA, even better than THE rotation at Atlanta.\\n       Cubs ERA at 0.056 while Braves at 0.059. We know it is early\\n       in the season, we Cubs fans have learned how to enjoy the\\n       short triumph while it is still there.\\n\""
      ]
     },
     "execution_count": 62,
     "metadata": {},
     "output_type": "execute_result"
    }
   ],
   "source": [
    "x.data[0]"
   ]
  },
  {
   "cell_type": "code",
   "execution_count": 51,
   "id": "c02c922f",
   "metadata": {},
   "outputs": [
    {
     "data": {
      "text/plain": [
       "dict_keys(['data', 'filenames', 'target_names', 'target', 'DESCR'])"
      ]
     },
     "execution_count": 51,
     "metadata": {},
     "output_type": "execute_result"
    }
   ],
   "source": [
    "x.keys()"
   ]
  },
  {
   "cell_type": "code",
   "execution_count": null,
   "id": "820499ff",
   "metadata": {},
   "outputs": [],
   "source": []
  }
 ],
 "metadata": {
  "kernelspec": {
   "display_name": "Python 3 (ipykernel)",
   "language": "python",
   "name": "python3"
  },
  "language_info": {
   "codemirror_mode": {
    "name": "ipython",
    "version": 3
   },
   "file_extension": ".py",
   "mimetype": "text/x-python",
   "name": "python",
   "nbconvert_exporter": "python",
   "pygments_lexer": "ipython3",
   "version": "3.8.10"
  }
 },
 "nbformat": 4,
 "nbformat_minor": 5
}
