{
 "cells": [
  {
   "cell_type": "markdown",
   "id": "0ea6d62f",
   "metadata": {},
   "source": [
    "## 0. Code Setup and Helper Functions"
   ]
  },
  {
   "cell_type": "markdown",
   "id": "16b2248c",
   "metadata": {},
   "source": [
    "### 0.1 Import all necessary packages"
   ]
  },
  {
   "cell_type": "code",
   "execution_count": 3,
   "id": "4c300695",
   "metadata": {},
   "outputs": [],
   "source": [
    "import os\n",
    "from bertopic import BERTopic\n",
    "from sklearn.datasets import fetch_20newsgroups"
   ]
  },
  {
   "cell_type": "markdown",
   "id": "6a64ffab",
   "metadata": {},
   "source": [
    "### 0.2 Path Adjustments"
   ]
  },
  {
   "cell_type": "code",
   "execution_count": 4,
   "id": "3994b950",
   "metadata": {},
   "outputs": [
    {
     "name": "stdout",
     "output_type": "stream",
     "text": [
      "[INFO] Current Directory: \"/home/iceking/Desktop/22SS-TUM Lecture Docs/3. Master's Practical Course - Machine Learning for Natural Language Processing Applications (IN2106, IN4249)/Repo/topic-modeling-advancements\".\n"
     ]
    }
   ],
   "source": [
    "if os.getcwd().endswith('/notebooks'):\n",
    "    os.chdir('..')\n",
    "\n",
    "assert os.path.exists('./src'), f\"[ERROR] The path src not detected in the current directory '{os.getcwd()}'.\"\n",
    "\n",
    "print(f'[INFO] Current Directory: \"{os.getcwd()}\".')"
   ]
  },
  {
   "cell_type": "markdown",
   "id": "bf6cf62c",
   "metadata": {},
   "source": [
    "### 0.3 Parameters and Global Variables"
   ]
  },
  {
   "cell_type": "code",
   "execution_count": 5,
   "id": "a6193ba8",
   "metadata": {},
   "outputs": [],
   "source": [
    "DATA_FOLDER = './data/20news_bydate'"
   ]
  },
  {
   "cell_type": "markdown",
   "id": "d9b44f24",
   "metadata": {},
   "source": [
    "## 1. Rest"
   ]
  },
  {
   "cell_type": "code",
   "execution_count": 6,
   "id": "b18d1e47",
   "metadata": {},
   "outputs": [],
   "source": [
    "docs = fetch_20newsgroups(subset=\"all\", remove=(\"headers\", \"footers\", \"quotes\"),data_home=DATA_FOLDER)[\"data\"]"
   ]
  },
  {
   "cell_type": "code",
   "execution_count": 7,
   "id": "59c566dd",
   "metadata": {},
   "outputs": [],
   "source": [
    "topic_model = BERTopic()"
   ]
  },
  {
   "cell_type": "code",
   "execution_count": 8,
   "id": "59d25482",
   "metadata": {},
   "outputs": [
    {
     "name": "stdout",
     "output_type": "stream",
     "text": [
      "huggingface/tokenizers: The current process just got forked, after parallelism has already been used. Disabling parallelism to avoid deadlocks...\n",
      "To disable this warning, you can either:\n",
      "\t- Avoid using `tokenizers` before the fork if possible\n",
      "\t- Explicitly set the environment variable TOKENIZERS_PARALLELISM=(true | false)\n",
      "huggingface/tokenizers: The current process just got forked, after parallelism has already been used. Disabling parallelism to avoid deadlocks...\n",
      "To disable this warning, you can either:\n",
      "\t- Avoid using `tokenizers` before the fork if possible\n",
      "\t- Explicitly set the environment variable TOKENIZERS_PARALLELISM=(true | false)\n",
      "huggingface/tokenizers: The current process just got forked, after parallelism has already been used. Disabling parallelism to avoid deadlocks...\n",
      "To disable this warning, you can either:\n",
      "\t- Avoid using `tokenizers` before the fork if possible\n",
      "\t- Explicitly set the environment variable TOKENIZERS_PARALLELISM=(true | false)\n",
      "huggingface/tokenizers: The current process just got forked, after parallelism has already been used. Disabling parallelism to avoid deadlocks...\n",
      "To disable this warning, you can either:\n",
      "\t- Avoid using `tokenizers` before the fork if possible\n",
      "\t- Explicitly set the environment variable TOKENIZERS_PARALLELISM=(true | false)\n",
      "huggingface/tokenizers: The current process just got forked, after parallelism has already been used. Disabling parallelism to avoid deadlocks...\n",
      "To disable this warning, you can either:\n",
      "\t- Avoid using `tokenizers` before the fork if possible\n",
      "\t- Explicitly set the environment variable TOKENIZERS_PARALLELISM=(true | false)\n",
      "huggingface/tokenizers: The current process just got forked, after parallelism has already been used. Disabling parallelism to avoid deadlocks...\n",
      "To disable this warning, you can either:\n",
      "\t- Avoid using `tokenizers` before the fork if possible\n",
      "\t- Explicitly set the environment variable TOKENIZERS_PARALLELISM=(true | false)\n"
     ]
    }
   ],
   "source": [
    "topics, probs = topic_model.fit_transform(docs)"
   ]
  },
  {
   "cell_type": "code",
   "execution_count": null,
   "id": "ddf9ee43",
   "metadata": {},
   "outputs": [],
   "source": [
    "topic_model.get_topic_info()"
   ]
  },
  {
   "cell_type": "code",
   "execution_count": null,
   "id": "e4b89588",
   "metadata": {},
   "outputs": [],
   "source": [
    "topic_model.visualize_barchart()"
   ]
  },
  {
   "cell_type": "code",
   "execution_count": null,
   "id": "de6fc061",
   "metadata": {},
   "outputs": [],
   "source": [
    "topic_model.save(\"bertopic_default\")"
   ]
  },
  {
   "cell_type": "code",
   "execution_count": null,
   "id": "f1f2e9c5",
   "metadata": {},
   "outputs": [],
   "source": [
    "## Reload model\n",
    "# topic_model = BERTopic.load(\"bertopic_default\")\n",
    "\n",
    "## Representative docs per topic\n",
    "topic_model.get_representative_docs(1)"
   ]
  },
  {
   "cell_type": "code",
   "execution_count": null,
   "id": "7461ec65",
   "metadata": {},
   "outputs": [],
   "source": [
    "topic_model.visualize_term_rank(topics = [0])"
   ]
  },
  {
   "cell_type": "code",
   "execution_count": null,
   "id": "ae497364",
   "metadata": {},
   "outputs": [],
   "source": [
    "## Reduce number of topics\n",
    "new_topics, new_probs = topic_model.reduce_topics(docs, topics, probabilities=probs, nr_topics=20)"
   ]
  },
  {
   "cell_type": "code",
   "execution_count": null,
   "id": "e8f5a9ef",
   "metadata": {},
   "outputs": [],
   "source": [
    "topic_model.get_topic_info()"
   ]
  },
  {
   "cell_type": "code",
   "execution_count": null,
   "id": "b2ea84a6",
   "metadata": {},
   "outputs": [],
   "source": [
    "topic_model.visualize_barchart()"
   ]
  },
  {
   "cell_type": "code",
   "execution_count": null,
   "id": "63ce08e0",
   "metadata": {},
   "outputs": [],
   "source": [
    "topic_df = topic_model.get_topic_info()\n",
    "\n",
    "topic_df.loc[topic_df[\"Topic\"] == 0, \"Name\"]"
   ]
  },
  {
   "cell_type": "code",
   "execution_count": null,
   "id": "98215390",
   "metadata": {},
   "outputs": [],
   "source": [
    "#topic_model.get_representative_docs(0)[0]\n",
    "\n",
    "for i in range(20):\n",
    "    print(\"Topic: \" + topic_df.loc[topic_df[\"Topic\"] == i, \"Name\"])\n",
    "    print(topic_model.get_representative_docs(i)[0])"
   ]
  }
 ],
 "metadata": {
  "kernelspec": {
   "display_name": "Python 3 (ipykernel)",
   "language": "python",
   "name": "python3"
  },
  "language_info": {
   "codemirror_mode": {
    "name": "ipython",
    "version": 3
   },
   "file_extension": ".py",
   "mimetype": "text/x-python",
   "name": "python",
   "nbconvert_exporter": "python",
   "pygments_lexer": "ipython3",
   "version": "3.8.10"
  }
 },
 "nbformat": 4,
 "nbformat_minor": 5
}
