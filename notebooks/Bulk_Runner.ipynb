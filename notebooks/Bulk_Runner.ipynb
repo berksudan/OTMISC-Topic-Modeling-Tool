{
 "cells": [
  {
   "cell_type": "markdown",
   "id": "61510b1e",
   "metadata": {},
   "source": [
    "## Import libaries"
   ]
  },
  {
   "cell_type": "code",
   "execution_count": 1,
   "id": "1b850f95",
   "metadata": {},
   "outputs": [
    {
     "name": "stdout",
     "output_type": "stream",
     "text": [
      "[INFO] Current Directory: \"/home/iceking/Desktop/22SS-TUM Lecture Docs/3. Praktikum (IN2106, IN4249)/Repo/topic-modeling-advancements\".\n"
     ]
    }
   ],
   "source": [
    "import os\n",
    "import sys\n",
    "assert os.path.exists('../src'), f\"[ERROR] The path src not detected in the parent directory '{os.getcwd()}'.\"\n",
    "\n",
    "if os.getcwd().endswith('/notebooks'):\n",
    "    os.chdir('..')\n",
    "    sys.path.append('./src')\n",
    "\n",
    "print(f'[INFO] Current Directory: \"{os.getcwd()}\".')"
   ]
  },
  {
   "cell_type": "code",
   "execution_count": 11,
   "id": "5d7dd503",
   "metadata": {},
   "outputs": [
    {
     "name": "stdout",
     "output_type": "stream",
     "text": [
      "The autoreload extension is already loaded. To reload it, use:\n",
      "  %reload_ext autoreload\n"
     ]
    }
   ],
   "source": [
    "%load_ext autoreload\n",
    "%autoreload 2\n",
    "\n",
    "\n",
    "from src import preprocessor\n",
    "from src.utils import load_documents\n",
    "import nltk\n",
    "import json\n",
    "import ast\n",
    "import pandas as pd\n",
    "import time\n",
    "import shutil\n",
    "from threading import Thread"
   ]
  },
  {
   "cell_type": "code",
   "execution_count": 3,
   "id": "7ec0773b",
   "metadata": {},
   "outputs": [
    {
     "name": "stderr",
     "output_type": "stream",
     "text": [
      "2022-07-24 11:04:13.310175: W tensorflow/stream_executor/platform/default/dso_loader.cc:64] Could not load dynamic library 'libcudart.so.11.0'; dlerror: libcudart.so.11.0: cannot open shared object file: No such file or directory\n",
      "2022-07-24 11:04:13.310198: I tensorflow/stream_executor/cuda/cudart_stub.cc:29] Ignore above cudart dlerror if you do not have a GPU set up on your machine.\n"
     ]
    }
   ],
   "source": [
    "from src.bulk_runner import OUTPUT_FOLDER\n",
    "from src.bulk_runner import main_runner"
   ]
  },
  {
   "cell_type": "code",
   "execution_count": 4,
   "id": "0e57a494",
   "metadata": {},
   "outputs": [],
   "source": [
    "if os.path.exists(OUTPUT_FOLDER):\n",
    "    shutil.rmtree(OUTPUT_FOLDER)"
   ]
  },
  {
   "cell_type": "code",
   "execution_count": 5,
   "id": "ed56b936",
   "metadata": {},
   "outputs": [],
   "source": [
    "def delete_first_line(filename:str,done_file:str):\n",
    "    with open(filename, 'r') as fin:\n",
    "        data = fin.read().splitlines(True)\n",
    "    with open(done_file, 'a+') as fout:\n",
    "        fout.write(data[0])\n",
    "    with open(filename, 'w') as fout:\n",
    "        fout.writelines(data[1:])"
   ]
  },
  {
   "cell_type": "code",
   "execution_count": 6,
   "id": "d02ce8ce",
   "metadata": {},
   "outputs": [],
   "source": [
    "combinations = []\n",
    "\n",
    "for comb_filename in ['combinations.txt','combinations_ctm.txt']:\n",
    "    with open(comb_filename) as comb_file:\n",
    "        for i,item in enumerate(comb_file.readlines()):\n",
    "            #item = item.replace(\"'\",'\"')\n",
    "            x= ast.literal_eval(item)\n",
    "            combinations.append((x,comb_filename))"
   ]
  },
  {
   "cell_type": "code",
   "execution_count": 12,
   "id": "2fce3413",
   "metadata": {},
   "outputs": [
    {
     "name": "stdout",
     "output_type": "stream",
     "text": [
      "[INFO] Configs #0/1958: {'algorithm_args': {'embedding_model': 'universal-sentence-encoder', 'min_count': 50, 'algorithm': 'top2vec', 'num_topics': 10, 'doc2vec_speed': 'learn', 'umap_args': {'n_neighbors': 15, 'n_components': 3, 'metric': 'cosine', 'random_state': 42}, 'hdbscan_args': {'min_cluster_size': 5, 'metric': 'euclidean', 'cluster_selection_method': 'eom'}}, 'preprocessing_funcs': ['to_lowercase', 'standardize_accented_chars', 'remove_url', 'expand_contractions', 'remove_mentions', 'remove_hashtags', 'keep_only_alphabet', 'remove_english_stop_words', 'lemmatize_noun'], 'dataset': 'crisis_17'}\n",
      "[INFO] [PREPROCESSOR] Available Preprocessing Functions in the Module:['to_lowercase', 'standardize_accented_chars', 'remove_url', 'expand_missing_delimiter', 'remove_mentions', 'remove_hashtags', 'keep_only_alphabet', 'remove_new_lines', 'remove_extra_spaces', 'remove_html_tags', 'expand_contractions', 'remove_english_stop_words', 'lemmatize', 'lemmatize_verb', 'lemmatize_noun', 'lemmatize_adjective', 'correct_typo']\n",
      "[INFO] [PREPROCESSOR] Preprocessing starting..\n",
      "[INFO] [PREPROCESSOR] These string preprocessing methods will be applied to the data in order:\n",
      "(  'to_lowercase',\n",
      "   'standardize_accented_chars',\n",
      "   'remove_url',\n",
      "   'remove_mentions',\n",
      "   'remove_hashtags',\n",
      "   'keep_only_alphabet')\n",
      "[INFO] [PREPROCESSOR] Then, these tokenized preprocessing methods will be applied in order:\n",
      "(  '__tokenize',\n",
      "   'expand_contractions',\n",
      "   'remove_english_stop_words',\n",
      "   'lemmatize_noun',\n",
      "   '__glue')\n"
     ]
    },
    {
     "name": "stderr",
     "output_type": "stream",
     "text": [
      "2022-07-24 11:06:25,159 - top2vec - INFO - Pre-processing documents for training\n",
      "2022-07-24 11:06:25,159 INFO:Pre-processing documents for training\n"
     ]
    },
    {
     "name": "stdout",
     "output_type": "stream",
     "text": [
      "[INFO] [PREPROCESSOR] Preprocessing completed in 7.258 seconds..\n",
      "[INFO] Running with 10 topics.\n",
      "[INFO] Top2Vec Parameters:\n",
      "{\n",
      "    \"embedding_model\": \"universal-sentence-encoder\",\n",
      "    \"min_count\": 50,\n",
      "    \"algorithm\": \"top2vec\",\n",
      "    \"num_topics\": 10,\n",
      "    \"doc2vec_speed\": \"learn\",\n",
      "    \"umap_args\": {\n",
      "        \"n_neighbors\": 15,\n",
      "        \"n_components\": 3,\n",
      "        \"metric\": \"cosine\",\n",
      "        \"random_state\": 42\n",
      "    },\n",
      "    \"hdbscan_args\": {\n",
      "        \"min_cluster_size\": 5,\n",
      "        \"metric\": \"euclidean\",\n",
      "        \"cluster_selection_method\": \"eom\"\n",
      "    },\n",
      "    \"data_name\": \"crisis_17\",\n",
      "    \"run_id\": 1658653577\n",
      "}\n",
      "[INFO] The embedding model folder:\"./pretrained_models/sentence-transformers_distiluse-base-multilingual-cased\" found, so no need to download.\n",
      "[INFO] The embedding model folder:\"./pretrained_models/sentence-transformers_all-MiniLM-L6-v2\" found, so no need to download.\n",
      "[INFO] The embedding model folder:\"./pretrained_models/sentence-transformers_paraphrase-multilingual-MiniLM-L12-v2\" found, so no need to download.\n",
      "[INFO] The embedding model folder:\"./pretrained_models/universal-sentence-encoder\" found, so no need to download.\n",
      "[INFO] The embedding model folder:\"./pretrained_models/universal-sentence-encoder-multilingual\" found, so no need to download.\n",
      "[INFO] The embedding model folder:\"./pretrained_models/universal-sentence-encoder-large\" found, so no need to download.\n",
      "[INFO] The embedding model folder:\"./pretrained_models/universal-sentence-encoder-multilingual-large\" found, so no need to download.\n",
      "[INFO] Top2Vec with name:\"top2vec\" is running for dataset:\"crisis_17\".\n"
     ]
    },
    {
     "name": "stderr",
     "output_type": "stream",
     "text": [
      "2022-07-24 11:06:27,767 - top2vec - INFO - Loading universal-sentence-encoder model at ./pretrained_models/universal-sentence-encoder\n",
      "2022-07-24 11:06:27,767 INFO:Loading universal-sentence-encoder model at ./pretrained_models/universal-sentence-encoder\n",
      "2022-07-24 11:06:27.900914: W tensorflow/stream_executor/platform/default/dso_loader.cc:64] Could not load dynamic library 'libcuda.so.1'; dlerror: libcuda.so.1: cannot open shared object file: No such file or directory\n",
      "2022-07-24 11:06:27.900938: W tensorflow/stream_executor/cuda/cuda_driver.cc:269] failed call to cuInit: UNKNOWN ERROR (303)\n",
      "2022-07-24 11:06:27.900955: I tensorflow/stream_executor/cuda/cuda_diagnostics.cc:156] kernel driver does not appear to be running on this host (iceking-ThinkPad-T490): /proc/driver/nvidia/version does not exist\n",
      "2022-07-24 11:06:27.901110: I tensorflow/core/platform/cpu_feature_guard.cc:193] This TensorFlow binary is optimized with oneAPI Deep Neural Network Library (oneDNN) to use the following CPU instructions in performance-critical operations:  AVX2 FMA\n",
      "To enable them in other operations, rebuild TensorFlow with the appropriate compiler flags.\n",
      "2022-07-24 11:06:31,466 - top2vec - INFO - Creating joint document/word embedding\n",
      "2022-07-24 11:06:31,466 INFO:Creating joint document/word embedding\n",
      "2022-07-24 11:06:42,100 - top2vec - INFO - Creating lower dimension embedding of documents\n",
      "2022-07-24 11:06:42,100 INFO:Creating lower dimension embedding of documents\n"
     ]
    },
    {
     "ename": "KeyboardInterrupt",
     "evalue": "",
     "output_type": "error",
     "traceback": [
      "\u001b[0;31m---------------------------------------------------------------------------\u001b[0m",
      "\u001b[0;31mKeyboardInterrupt\u001b[0m                         Traceback (most recent call last)",
      "Input \u001b[0;32mIn [12]\u001b[0m, in \u001b[0;36m<cell line: 3>\u001b[0;34m()\u001b[0m\n\u001b[1;32m      7\u001b[0m main_thread\u001b[38;5;241m=\u001b[39m Thread(target\u001b[38;5;241m=\u001b[39mmain_runner, args\u001b[38;5;241m=\u001b[39m[configs])\n\u001b[1;32m      8\u001b[0m dfs_merged \u001b[38;5;241m=\u001b[39m main_thread\u001b[38;5;241m.\u001b[39mstart()\n\u001b[0;32m----> 9\u001b[0m df_output_topic_word \u001b[38;5;241m=\u001b[39m  \u001b[43mmain_thread\u001b[49m\u001b[38;5;241;43m.\u001b[39;49m\u001b[43mjoin\u001b[49m\u001b[43m(\u001b[49m\u001b[43mtimeout\u001b[49m\u001b[38;5;241;43m=\u001b[39;49m\u001b[43mtimeout\u001b[49m\u001b[43m)\u001b[49m\n\u001b[1;32m     10\u001b[0m bridge\u001b[38;5;241m.\u001b[39mset()\n\u001b[1;32m     11\u001b[0m \u001b[38;5;66;03m# df_output_topic_word = main_runner(configs=configs)\u001b[39;00m\n",
      "File \u001b[0;32m/usr/lib/python3.8/threading.py:1015\u001b[0m, in \u001b[0;36mThread.join\u001b[0;34m(self, timeout)\u001b[0m\n\u001b[1;32m   1011\u001b[0m     \u001b[38;5;28mself\u001b[39m\u001b[38;5;241m.\u001b[39m_wait_for_tstate_lock()\n\u001b[1;32m   1012\u001b[0m \u001b[38;5;28;01melse\u001b[39;00m:\n\u001b[1;32m   1013\u001b[0m     \u001b[38;5;66;03m# the behavior of a negative timeout isn't documented, but\u001b[39;00m\n\u001b[1;32m   1014\u001b[0m     \u001b[38;5;66;03m# historically .join(timeout=x) for x<0 has acted as if timeout=0\u001b[39;00m\n\u001b[0;32m-> 1015\u001b[0m     \u001b[38;5;28;43mself\u001b[39;49m\u001b[38;5;241;43m.\u001b[39;49m\u001b[43m_wait_for_tstate_lock\u001b[49m\u001b[43m(\u001b[49m\u001b[43mtimeout\u001b[49m\u001b[38;5;241;43m=\u001b[39;49m\u001b[38;5;28;43mmax\u001b[39;49m\u001b[43m(\u001b[49m\u001b[43mtimeout\u001b[49m\u001b[43m,\u001b[49m\u001b[43m \u001b[49m\u001b[38;5;241;43m0\u001b[39;49m\u001b[43m)\u001b[49m\u001b[43m)\u001b[49m\n",
      "File \u001b[0;32m/usr/lib/python3.8/threading.py:1027\u001b[0m, in \u001b[0;36mThread._wait_for_tstate_lock\u001b[0;34m(self, block, timeout)\u001b[0m\n\u001b[1;32m   1025\u001b[0m \u001b[38;5;28;01mif\u001b[39;00m lock \u001b[38;5;129;01mis\u001b[39;00m \u001b[38;5;28;01mNone\u001b[39;00m:  \u001b[38;5;66;03m# already determined that the C code is done\u001b[39;00m\n\u001b[1;32m   1026\u001b[0m     \u001b[38;5;28;01massert\u001b[39;00m \u001b[38;5;28mself\u001b[39m\u001b[38;5;241m.\u001b[39m_is_stopped\n\u001b[0;32m-> 1027\u001b[0m \u001b[38;5;28;01melif\u001b[39;00m \u001b[43mlock\u001b[49m\u001b[38;5;241;43m.\u001b[39;49m\u001b[43macquire\u001b[49m\u001b[43m(\u001b[49m\u001b[43mblock\u001b[49m\u001b[43m,\u001b[49m\u001b[43m \u001b[49m\u001b[43mtimeout\u001b[49m\u001b[43m)\u001b[49m:\n\u001b[1;32m   1028\u001b[0m     lock\u001b[38;5;241m.\u001b[39mrelease()\n\u001b[1;32m   1029\u001b[0m     \u001b[38;5;28mself\u001b[39m\u001b[38;5;241m.\u001b[39m_stop()\n",
      "\u001b[0;31mKeyboardInterrupt\u001b[0m: "
     ]
    }
   ],
   "source": [
    "timeout = 20 * 60\n",
    "dfs_merged=pd.DataFrame()\n",
    "for i,(configs,configs_filename) in enumerate(combinations):\n",
    "    print(f'[INFO] Configs #{i}/{len(combinations)}: {configs}')\n",
    "    try:\n",
    "        delete_first_line(configs_filename,configs_filename + '_done')\n",
    "        main_thread= Thread(target=main_runner, args=[configs])\n",
    "        dfs_merged = main_thread.start()\n",
    "        df_output_topic_word =  main_thread.join(timeout=timeout)\n",
    "        bridge.set()\n",
    "    # df_output_topic_word = main_runner(configs=configs)\n",
    "    dfs_merged = pd.concat([dfs_merged,df_output_topic_word])\n",
    "    dfs_merged.to_csv(f'./{OUTPUT_FOLDER}/merged.csv')\n",
    "    except Exception:\n",
    "        print('[WARN] Current execution gave an error!')\n",
    "        time.sleep(10)\n"
   ]
  },
  {
   "cell_type": "code",
   "execution_count": null,
   "id": "a7f6faf5",
   "metadata": {},
   "outputs": [],
   "source": []
  }
 ],
 "metadata": {
  "kernelspec": {
   "display_name": "Python 3 (ipykernel)",
   "language": "python",
   "name": "python3"
  },
  "language_info": {
   "codemirror_mode": {
    "name": "ipython",
    "version": 3
   },
   "file_extension": ".py",
   "mimetype": "text/x-python",
   "name": "python",
   "nbconvert_exporter": "python",
   "pygments_lexer": "ipython3",
   "version": "3.8.10"
  }
 },
 "nbformat": 4,
 "nbformat_minor": 5
}
