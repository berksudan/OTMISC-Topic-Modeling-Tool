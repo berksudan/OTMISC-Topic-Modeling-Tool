{
 "cells": [
  {
   "cell_type": "markdown",
   "id": "61510b1e",
   "metadata": {},
   "source": [
    "## Import libaries"
   ]
  },
  {
   "cell_type": "code",
   "execution_count": 1,
   "id": "b86ecda9",
   "metadata": {},
   "outputs": [
    {
     "name": "stdout",
     "output_type": "stream",
     "text": [
      "[INFO] Current Directory: \"/home/iceking/Desktop/22SS-TUM Lecture Docs/3. Praktikum (IN2106, IN4249)/Repo/topic-modeling-advancements\".\n"
     ]
    }
   ],
   "source": [
    "import os\n",
    "import sys\n",
    "assert os.path.exists('../src'), f\"[ERROR] The path src not detected in the parent directory '{os.getcwd()}'.\"\n",
    "\n",
    "if os.getcwd().endswith('/notebooks'):\n",
    "    os.chdir('..')\n",
    "    sys.path.append('./src')\n",
    "\n",
    "print(f'[INFO] Current Directory: \"{os.getcwd()}\".')"
   ]
  },
  {
   "cell_type": "code",
   "execution_count": 5,
   "id": "b494c83d",
   "metadata": {},
   "outputs": [
    {
     "name": "stdout",
     "output_type": "stream",
     "text": [
      "The autoreload extension is already loaded. To reload it, use:\n",
      "  %reload_ext autoreload\n"
     ]
    }
   ],
   "source": [
    "%load_ext autoreload\n",
    "%autoreload 2\n",
    "\n",
    "\n",
    "from src import preprocessor\n",
    "from src.utils import load_documents\n",
    "import nltk\n",
    "import json\n",
    "import ast\n",
    "from time import time\n",
    "import shutil"
   ]
  },
  {
   "cell_type": "code",
   "execution_count": 6,
   "id": "2bfac3b7",
   "metadata": {},
   "outputs": [],
   "source": [
    "combinations = []\n",
    "with open('combinations.txt') as comb_file:\n",
    "    for item in comb_file.readlines():\n",
    "        item = item.replace(\"'\",'\"')\n",
    "        x= ast.literal_eval(item)\n",
    "        combinations.append(x)"
   ]
  },
  {
   "cell_type": "code",
   "execution_count": 7,
   "id": "a277157f",
   "metadata": {},
   "outputs": [
    {
     "name": "stdout",
     "output_type": "stream",
     "text": [
      "[INFO] [PREPROCESSOR] Available Preprocessing Functions in the Module:['to_lowercase', 'standardize_accented_chars', 'remove_url', 'expand_missing_delimiter', 'remove_mentions', 'remove_hashtags', 'keep_only_alphabet', 'remove_new_lines', 'remove_extra_spaces', 'remove_html_tags', 'expand_contractions', 'remove_english_stop_words', 'lemmatize', 'lemmatize_verb', 'lemmatize_noun', 'lemmatize_adjective', 'correct_typo']\n",
      "[INFO] [PREPROCESSOR] Preprocessing starting..\n",
      "[INFO] [PREPROCESSOR] These string preprocessing methods will be applied to the data in order:\n",
      "(  'to_lowercase',\n",
      "   'standardize_accented_chars',\n",
      "   'remove_url',\n",
      "   'expand_missing_delimiter',\n",
      "   'remove_mentions',\n",
      "   'remove_hashtags',\n",
      "   'remove_new_lines',\n",
      "   'remove_html_tags',\n",
      "   'keep_only_alphabet',\n",
      "   'remove_extra_spaces')\n",
      "[INFO] [PREPROCESSOR] Then, these tokenized preprocessing methods will be applied in order:\n",
      "(  '__tokenize',\n",
      "   'expand_contractions',\n",
      "   'remove_english_stop_words',\n",
      "   'lemmatize_noun',\n",
      "   'lemmatize_verb',\n",
      "   'lemmatize_adjective',\n",
      "   '__glue')\n"
     ]
    },
    {
     "name": "stderr",
     "output_type": "stream",
     "text": [
      "2022-07-24 00:48:24,508 - top2vec - INFO - Pre-processing documents for training\n",
      "2022-07-24 00:48:24,508 INFO:Pre-processing documents for training\n"
     ]
    },
    {
     "name": "stdout",
     "output_type": "stream",
     "text": [
      "[INFO] [PREPROCESSOR] Preprocessing completed in 15.273 seconds..\n",
      "[INFO] Running with 4 topics.\n",
      "[INFO] Top2Vec Parameters:\n",
      "{\n",
      "    \"embedding_model\": \"universal-sentence-encoder-multilingual-large\",\n",
      "    \"min_count\": 10,\n",
      "    \"algorithm\": \"top2vec\",\n",
      "    \"num_topics\": 4,\n",
      "    \"doc2vec_speed\": \"learn\",\n",
      "    \"umap_args\": {\n",
      "        \"n_neighbors\": 15,\n",
      "        \"n_components\": [\n",
      "            3,\n",
      "            5,\n",
      "            7\n",
      "        ],\n",
      "        \"metric\": \"cosine\",\n",
      "        \"random_state\": 42\n",
      "    },\n",
      "    \"hdbscan_args\": {\n",
      "        \"min_cluster_size\": [\n",
      "            5,\n",
      "            10,\n",
      "            15\n",
      "        ],\n",
      "        \"metric\": \"euclidean\",\n",
      "        \"cluster_selection_method\": \"eom\"\n",
      "    },\n",
      "    \"data_name\": \"crisis_01\",\n",
      "    \"run_id\": 1658616489\n",
      "}\n",
      "[INFO] The embedding model folder:\"./pretrained_models/sentence-transformers_distiluse-base-multilingual-cased\" found, so no need to download.\n",
      "[INFO] The embedding model folder:\"./pretrained_models/sentence-transformers_all-MiniLM-L6-v2\" found, so no need to download.\n",
      "[INFO] The embedding model folder:\"./pretrained_models/sentence-transformers_paraphrase-multilingual-MiniLM-L12-v2\" found, so no need to download.\n",
      "[INFO] The embedding model folder:\"./pretrained_models/universal-sentence-encoder\" found, so no need to download.\n",
      "[INFO] The embedding model folder:\"./pretrained_models/universal-sentence-encoder-multilingual\" found, so no need to download.\n",
      "[INFO] The embedding model folder:\"./pretrained_models/universal-sentence-encoder-large\" found, so no need to download.\n",
      "[INFO] The embedding model folder:\"./pretrained_models/universal-sentence-encoder-multilingual-large\" found, so no need to download.\n",
      "[INFO] Top2Vec with name:\"top2vec\" is running for dataset:\"crisis_01\".\n"
     ]
    },
    {
     "name": "stderr",
     "output_type": "stream",
     "text": [
      "2022-07-24 00:48:25,118 - top2vec - INFO - Loading universal-sentence-encoder-multilingual-large model at ./pretrained_models/universal-sentence-encoder-multilingual-large\n",
      "2022-07-24 00:48:25,118 INFO:Loading universal-sentence-encoder-multilingual-large model at ./pretrained_models/universal-sentence-encoder-multilingual-large\n",
      "2022-07-24 00:48:26.003477: W tensorflow/stream_executor/platform/default/dso_loader.cc:64] Could not load dynamic library 'libcuda.so.1'; dlerror: libcuda.so.1: cannot open shared object file: No such file or directory\n",
      "2022-07-24 00:48:26.003497: W tensorflow/stream_executor/cuda/cuda_driver.cc:269] failed call to cuInit: UNKNOWN ERROR (303)\n",
      "2022-07-24 00:48:26.003511: I tensorflow/stream_executor/cuda/cuda_diagnostics.cc:156] kernel driver does not appear to be running on this host (iceking-ThinkPad-T490): /proc/driver/nvidia/version does not exist\n",
      "2022-07-24 00:48:26.003733: I tensorflow/core/platform/cpu_feature_guard.cc:193] This TensorFlow binary is optimized with oneAPI Deep Neural Network Library (oneDNN) to use the following CPU instructions in performance-critical operations:  AVX2 FMA\n",
      "To enable them in other operations, rebuild TensorFlow with the appropriate compiler flags.\n",
      "2022-07-24 00:48:29,921 - top2vec - INFO - Creating joint document/word embedding\n",
      "2022-07-24 00:48:29,921 INFO:Creating joint document/word embedding\n",
      "2022-07-24 00:50:21,978 - top2vec - INFO - Creating lower dimension embedding of documents\n",
      "2022-07-24 00:50:21,978 INFO:Creating lower dimension embedding of documents\n"
     ]
    },
    {
     "name": "stdout",
     "output_type": "stream",
     "text": [
      "[WARN] Current execution gave an error!\n"
     ]
    },
    {
     "ename": "NameError",
     "evalue": "name 'sleep' is not defined",
     "output_type": "error",
     "traceback": [
      "\u001b[0;31m---------------------------------------------------------------------------\u001b[0m",
      "\u001b[0;31mTypeError\u001b[0m                                 Traceback (most recent call last)",
      "Input \u001b[0;32mIn [7]\u001b[0m, in \u001b[0;36m<cell line: 6>\u001b[0;34m()\u001b[0m\n\u001b[1;32m      7\u001b[0m \u001b[38;5;28;01mtry\u001b[39;00m:\n\u001b[0;32m----> 8\u001b[0m     df_output_topic_word \u001b[38;5;241m=\u001b[39m \u001b[43mmain_runner\u001b[49m\u001b[43m(\u001b[49m\u001b[43mconfigs\u001b[49m\u001b[38;5;241;43m=\u001b[39;49m\u001b[43mconfigs\u001b[49m\u001b[43m)\u001b[49m\n\u001b[1;32m      9\u001b[0m     dfs_output_topic_word\u001b[38;5;241m.\u001b[39mappend(df_output_topic_word)\n",
      "File \u001b[0;32m~/Desktop/22SS-TUM Lecture Docs/3. Praktikum (IN2106, IN4249)/Repo/topic-modeling-advancements/src/bulk_runner.py:52\u001b[0m, in \u001b[0;36mmain_runner\u001b[0;34m(configs)\u001b[0m\n\u001b[1;32m     51\u001b[0m     algorithm_args\u001b[38;5;241m.\u001b[39mupdate(run_id\u001b[38;5;241m=\u001b[39mrun_id)\n\u001b[0;32m---> 52\u001b[0m     model, df_output_doc_topic, df_output_topic_word \u001b[38;5;241m=\u001b[39m \u001b[43mtop2vec_runner\u001b[49m\u001b[38;5;241;43m.\u001b[39;49m\u001b[43mparametric_run\u001b[49m\u001b[43m(\u001b[49m\u001b[43margs\u001b[49m\u001b[38;5;241;43m=\u001b[39;49m\u001b[43malgorithm_args\u001b[49m\u001b[43m)\u001b[49m\n\u001b[1;32m     53\u001b[0m \u001b[38;5;28;01melse\u001b[39;00m:\n",
      "File \u001b[0;32m~/Desktop/22SS-TUM Lecture Docs/3. Praktikum (IN2106, IN4249)/Repo/topic-modeling-advancements/src/top2vec_runner.py:259\u001b[0m, in \u001b[0;36mparametric_run\u001b[0;34m(args, exclude)\u001b[0m\n\u001b[1;32m    258\u001b[0m pretty_print_dict(args_for_printing, info_log\u001b[38;5;241m=\u001b[39m\u001b[38;5;124m'\u001b[39m\u001b[38;5;124mTop2Vec Parameters:\u001b[39m\u001b[38;5;124m'\u001b[39m)\n\u001b[0;32m--> 259\u001b[0m \u001b[38;5;28;01mreturn\u001b[39;00m \u001b[43mrun\u001b[49m\u001b[43m(\u001b[49m\u001b[38;5;241;43m*\u001b[39;49m\u001b[38;5;241;43m*\u001b[39;49m\u001b[43margs\u001b[49m\u001b[43m)\u001b[49m\n",
      "File \u001b[0;32m~/Desktop/22SS-TUM Lecture Docs/3. Praktikum (IN2106, IN4249)/Repo/topic-modeling-advancements/src/top2vec_runner.py:202\u001b[0m, in \u001b[0;36mrun\u001b[0;34m(data_name, docs, labels, min_count, embedding_model, umap_args, hdbscan_args, run_id, doc2vec_speed, num_topics, algorithm)\u001b[0m\n\u001b[1;32m    201\u001b[0m \u001b[38;5;28;01melif\u001b[39;00m embedding_model \u001b[38;5;129;01min\u001b[39;00m TF_HUB_EMBEDDING_MODELS:  \u001b[38;5;66;03m# Model is a TF Hub Model (Universal-Sentence-Encoder)\u001b[39;00m\n\u001b[0;32m--> 202\u001b[0m     model \u001b[38;5;241m=\u001b[39m \u001b[43mTop2Vec\u001b[49m\u001b[43m(\u001b[49m\n\u001b[1;32m    203\u001b[0m \u001b[43m        \u001b[49m\u001b[43mdocs\u001b[49m\u001b[43m,\u001b[49m\u001b[43m \u001b[49m\u001b[43mworkers\u001b[49m\u001b[38;5;241;43m=\u001b[39;49m\u001b[43mcpu_count\u001b[49m\u001b[43m(\u001b[49m\u001b[43m)\u001b[49m\u001b[43m,\u001b[49m\u001b[43m \u001b[49m\u001b[43mmin_count\u001b[49m\u001b[38;5;241;43m=\u001b[39;49m\u001b[43mmin_count\u001b[49m\u001b[43m,\u001b[49m\u001b[43m \u001b[49m\u001b[43membedding_model\u001b[49m\u001b[38;5;241;43m=\u001b[39;49m\u001b[43membedding_model\u001b[49m\u001b[43m,\u001b[49m\n\u001b[1;32m    204\u001b[0m \u001b[43m        \u001b[49m\u001b[43membedding_model_path\u001b[49m\u001b[38;5;241;43m=\u001b[39;49m\u001b[38;5;124;43mf\u001b[39;49m\u001b[38;5;124;43m'\u001b[39;49m\u001b[38;5;132;43;01m{\u001b[39;49;00m\u001b[43mEMBEDDING_DIR_PATH\u001b[49m\u001b[38;5;132;43;01m}\u001b[39;49;00m\u001b[38;5;124;43m/\u001b[39;49m\u001b[38;5;132;43;01m{\u001b[39;49;00m\u001b[43membedding_model\u001b[49m\u001b[38;5;132;43;01m}\u001b[39;49;00m\u001b[38;5;124;43m'\u001b[39;49m\u001b[43m,\u001b[49m\u001b[43m \u001b[49m\u001b[43mumap_args\u001b[49m\u001b[38;5;241;43m=\u001b[39;49m\u001b[43mumap_args\u001b[49m\u001b[43m,\u001b[49m\n\u001b[1;32m    205\u001b[0m \u001b[43m        \u001b[49m\u001b[43mhdbscan_args\u001b[49m\u001b[38;5;241;43m=\u001b[39;49m\u001b[43mhdbscan_args\u001b[49m\n\u001b[1;32m    206\u001b[0m \u001b[43m    \u001b[49m\u001b[43m)\u001b[49m\n\u001b[1;32m    207\u001b[0m \u001b[38;5;28;01melif\u001b[39;00m embedding_model \u001b[38;5;129;01min\u001b[39;00m HUGGING_FACE_EMBEDDING_MODELS:  \u001b[38;5;66;03m# Model is a Hugging Face Model (Sentence-Transformer)\u001b[39;00m\n",
      "File \u001b[0;32m~/Desktop/22SS-TUM Lecture Docs/3. Praktikum (IN2106, IN4249)/Repo/topic-modeling-advancements/venv/lib/python3.8/site-packages/top2vec/Top2Vec.py:668\u001b[0m, in \u001b[0;36mTop2Vec.__init__\u001b[0;34m(self, documents, min_count, ngram_vocab, ngram_vocab_args, embedding_model, embedding_model_path, embedding_batch_size, split_documents, document_chunker, chunk_length, max_num_chunks, chunk_overlap_ratio, chunk_len_coverage_ratio, sentencizer, speed, use_corpus_file, document_ids, keep_documents, workers, tokenizer, use_embedding_model_tokenizer, umap_args, hdbscan_args, verbose)\u001b[0m\n\u001b[1;32m    664\u001b[0m     umap_args \u001b[38;5;241m=\u001b[39m {\u001b[38;5;124m'\u001b[39m\u001b[38;5;124mn_neighbors\u001b[39m\u001b[38;5;124m'\u001b[39m: \u001b[38;5;241m15\u001b[39m,\n\u001b[1;32m    665\u001b[0m                  \u001b[38;5;124m'\u001b[39m\u001b[38;5;124mn_components\u001b[39m\u001b[38;5;124m'\u001b[39m: \u001b[38;5;241m5\u001b[39m,\n\u001b[1;32m    666\u001b[0m                  \u001b[38;5;124m'\u001b[39m\u001b[38;5;124mmetric\u001b[39m\u001b[38;5;124m'\u001b[39m: \u001b[38;5;124m'\u001b[39m\u001b[38;5;124mcosine\u001b[39m\u001b[38;5;124m'\u001b[39m}\n\u001b[0;32m--> 668\u001b[0m umap_model \u001b[38;5;241m=\u001b[39m \u001b[43mumap\u001b[49m\u001b[38;5;241;43m.\u001b[39;49m\u001b[43mUMAP\u001b[49m\u001b[43m(\u001b[49m\u001b[38;5;241;43m*\u001b[39;49m\u001b[38;5;241;43m*\u001b[39;49m\u001b[43mumap_args\u001b[49m\u001b[43m)\u001b[49m\u001b[38;5;241;43m.\u001b[39;49m\u001b[43mfit\u001b[49m\u001b[43m(\u001b[49m\u001b[38;5;28;43mself\u001b[39;49m\u001b[38;5;241;43m.\u001b[39;49m\u001b[43mdocument_vectors\u001b[49m\u001b[43m)\u001b[49m\n\u001b[1;32m    670\u001b[0m \u001b[38;5;66;03m# find dense areas of document vectors\u001b[39;00m\n",
      "File \u001b[0;32m~/Desktop/22SS-TUM Lecture Docs/3. Praktikum (IN2106, IN4249)/Repo/topic-modeling-advancements/venv/lib/python3.8/site-packages/umap/umap_.py:2290\u001b[0m, in \u001b[0;36mUMAP.fit\u001b[0;34m(self, X, y)\u001b[0m\n\u001b[1;32m   2288\u001b[0m \u001b[38;5;28mself\u001b[39m\u001b[38;5;241m.\u001b[39mknn_search_index \u001b[38;5;241m=\u001b[39m \u001b[38;5;28mself\u001b[39m\u001b[38;5;241m.\u001b[39mprecomputed_knn[\u001b[38;5;241m2\u001b[39m]\n\u001b[0;32m-> 2290\u001b[0m \u001b[38;5;28;43mself\u001b[39;49m\u001b[38;5;241;43m.\u001b[39;49m\u001b[43m_validate_parameters\u001b[49m\u001b[43m(\u001b[49m\u001b[43m)\u001b[49m\n\u001b[1;32m   2292\u001b[0m \u001b[38;5;28;01mif\u001b[39;00m \u001b[38;5;28mself\u001b[39m\u001b[38;5;241m.\u001b[39mverbose:\n",
      "File \u001b[0;32m~/Desktop/22SS-TUM Lecture Docs/3. Praktikum (IN2106, IN4249)/Repo/topic-modeling-advancements/venv/lib/python3.8/site-packages/umap/umap_.py:1723\u001b[0m, in \u001b[0;36mUMAP._validate_parameters\u001b[0;34m(self)\u001b[0m\n\u001b[1;32m   1722\u001b[0m     \u001b[38;5;28;01mraise\u001b[39;00m \u001b[38;5;167;01mValueError\u001b[39;00m(\u001b[38;5;124m\"\u001b[39m\u001b[38;5;124mn_components must be an int\u001b[39m\u001b[38;5;124m\"\u001b[39m)\n\u001b[0;32m-> 1723\u001b[0m \u001b[38;5;28;01mif\u001b[39;00m \u001b[38;5;28;43mself\u001b[39;49m\u001b[38;5;241;43m.\u001b[39;49m\u001b[43mn_components\u001b[49m\u001b[43m \u001b[49m\u001b[38;5;241;43m%\u001b[39;49m\u001b[43m \u001b[49m\u001b[38;5;241;43m1\u001b[39;49m \u001b[38;5;241m!=\u001b[39m \u001b[38;5;241m0\u001b[39m:\n\u001b[1;32m   1724\u001b[0m     \u001b[38;5;28;01mraise\u001b[39;00m \u001b[38;5;167;01mValueError\u001b[39;00m(\u001b[38;5;124m\"\u001b[39m\u001b[38;5;124mn_components must be a whole number\u001b[39m\u001b[38;5;124m\"\u001b[39m)\n",
      "\u001b[0;31mTypeError\u001b[0m: unsupported operand type(s) for %: 'list' and 'int'",
      "\nDuring handling of the above exception, another exception occurred:\n",
      "\u001b[0;31mNameError\u001b[0m                                 Traceback (most recent call last)",
      "Input \u001b[0;32mIn [7]\u001b[0m, in \u001b[0;36m<cell line: 6>\u001b[0;34m()\u001b[0m\n\u001b[1;32m     10\u001b[0m     \u001b[38;5;28;01mexcept\u001b[39;00m \u001b[38;5;167;01mException\u001b[39;00m:\n\u001b[1;32m     11\u001b[0m         \u001b[38;5;28mprint\u001b[39m(\u001b[38;5;124m'\u001b[39m\u001b[38;5;124m[WARN] Current execution gave an error!\u001b[39m\u001b[38;5;124m'\u001b[39m)\n\u001b[0;32m---> 12\u001b[0m         \u001b[43msleep\u001b[49m(\u001b[38;5;241m10\u001b[39m)\n\u001b[1;32m     13\u001b[0m         \u001b[38;5;28;01mcontinue\u001b[39;00m\n\u001b[1;32m     14\u001b[0m pd\u001b[38;5;241m.\u001b[39mconcat(dfs_output_topic_word)\u001b[38;5;241m.\u001b[39mto_csv(\u001b[38;5;124mf\u001b[39m\u001b[38;5;124m'\u001b[39m\u001b[38;5;124m./\u001b[39m\u001b[38;5;132;01m{\u001b[39;00mOUTPUT_FOLDER\u001b[38;5;132;01m}\u001b[39;00m\u001b[38;5;124m/merged.csv\u001b[39m\u001b[38;5;124m'\u001b[39m)\n",
      "\u001b[0;31mNameError\u001b[0m: name 'sleep' is not defined"
     ]
    }
   ],
   "source": [
    "from src.bulk_runner import OUTPUT_FOLDER\n",
    "from src.bulk_runner import main_runner\n",
    "if os.path.exists(OUTPUT_FOLDER):\n",
    "    shutil.rmtree(OUTPUT_FOLDER)\n",
    "dfs_output_topic_word = []\n",
    "for configs in combinations:\n",
    "    try:\n",
    "        df_output_topic_word = main_runner(configs=configs)\n",
    "        dfs_output_topic_word.append(df_output_topic_word)\n",
    "    except Exception:\n",
    "        print('[WARN] Current execution gave an error!')\n",
    "        sleep(10)\n",
    "        continue\n",
    "pd.concat(dfs_output_topic_word).to_csv(f'./{OUTPUT_FOLDER}/merged.csv')"
   ]
  }
 ],
 "metadata": {
  "kernelspec": {
   "display_name": "Python 3 (ipykernel)",
   "language": "python",
   "name": "python3"
  },
  "language_info": {
   "codemirror_mode": {
    "name": "ipython",
    "version": 3
   },
   "file_extension": ".py",
   "mimetype": "text/x-python",
   "name": "python",
   "nbconvert_exporter": "python",
   "pygments_lexer": "ipython3",
   "version": "3.8.10"
  }
 },
 "nbformat": 4,
 "nbformat_minor": 5
}
