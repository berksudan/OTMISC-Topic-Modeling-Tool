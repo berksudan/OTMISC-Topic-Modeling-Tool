{
 "cells": [
  {
   "cell_type": "markdown",
   "id": "61510b1e",
   "metadata": {},
   "source": [
    "## Import libaries"
   ]
  },
  {
   "cell_type": "code",
   "execution_count": 1,
   "id": "ff0b713a",
   "metadata": {},
   "outputs": [
    {
     "name": "stdout",
     "output_type": "stream",
     "text": [
      "[INFO] Current Directory: \"/home/iceking/Desktop/22SS-TUM Lecture Docs/3. Praktikum (IN2106, IN4249)/Repo/topic-modeling-advancements\".\n"
     ]
    }
   ],
   "source": [
    "import os\n",
    "import sys\n",
    "assert os.path.exists('../src'), f\"[ERROR] The path src not detected in the parent directory '{os.getcwd()}'.\"\n",
    "\n",
    "if os.getcwd().endswith('/notebooks'):\n",
    "    os.chdir('..')\n",
    "    sys.path.append('./src')\n",
    "\n",
    "print(f'[INFO] Current Directory: \"{os.getcwd()}\".')"
   ]
  },
  {
   "cell_type": "code",
   "execution_count": 5,
   "id": "37eb277f",
   "metadata": {},
   "outputs": [
    {
     "name": "stdout",
     "output_type": "stream",
     "text": [
      "The autoreload extension is already loaded. To reload it, use:\n",
      "  %reload_ext autoreload\n"
     ]
    }
   ],
   "source": [
    "%load_ext autoreload\n",
    "%autoreload 2\n",
    "\n",
    "\n",
    "from src import preprocessor\n",
    "from src.utils import load_documents\n",
    "import nltk\n",
    "import json\n",
    "import ast\n",
    "from time import time\n",
    "import shutil"
   ]
  },
  {
   "cell_type": "code",
   "execution_count": 6,
   "id": "30b87577",
   "metadata": {},
   "outputs": [],
   "source": [
    "combinations = []\n",
    "with open('combinations.txt') as comb_file:\n",
    "    for item in comb_file.readlines():\n",
    "        item = item.replace(\"'\",'\"')\n",
    "        x= ast.literal_eval(item)\n",
    "        combinations.append(x)"
   ]
  },
  {
   "cell_type": "code",
   "execution_count": null,
   "id": "45666aa4",
   "metadata": {},
   "outputs": [
    {
     "name": "stdout",
     "output_type": "stream",
     "text": [
      "[INFO] [PREPROCESSOR] Available Preprocessing Functions in the Module:['to_lowercase', 'standardize_accented_chars', 'remove_url', 'expand_missing_delimiter', 'remove_mentions', 'remove_hashtags', 'keep_only_alphabet', 'remove_new_lines', 'remove_extra_spaces', 'remove_html_tags', 'expand_contractions', 'remove_english_stop_words', 'lemmatize', 'lemmatize_verb', 'lemmatize_noun', 'lemmatize_adjective', 'correct_typo']\n",
      "[INFO] [PREPROCESSOR] Preprocessing starting..\n",
      "[INFO] [PREPROCESSOR] These string preprocessing methods will be applied to the data in order:\n",
      "(  'to_lowercase',\n",
      "   'standardize_accented_chars',\n",
      "   'remove_url',\n",
      "   'expand_missing_delimiter',\n",
      "   'remove_mentions',\n",
      "   'remove_hashtags',\n",
      "   'remove_new_lines',\n",
      "   'remove_html_tags',\n",
      "   'keep_only_alphabet',\n",
      "   'remove_extra_spaces')\n",
      "[INFO] [PREPROCESSOR] Then, these tokenized preprocessing methods will be applied in order:\n",
      "(  '__tokenize',\n",
      "   'expand_contractions',\n",
      "   'remove_english_stop_words',\n",
      "   'lemmatize_noun',\n",
      "   'lemmatize_verb',\n",
      "   'lemmatize_adjective',\n",
      "   '__glue')\n"
     ]
    },
    {
     "name": "stderr",
     "output_type": "stream",
     "text": [
      "2022-07-24 00:48:24,508 - top2vec - INFO - Pre-processing documents for training\n",
      "2022-07-24 00:48:24,508 INFO:Pre-processing documents for training\n"
     ]
    },
    {
     "name": "stdout",
     "output_type": "stream",
     "text": [
      "[INFO] [PREPROCESSOR] Preprocessing completed in 15.273 seconds..\n",
      "[INFO] Running with 4 topics.\n",
      "[INFO] Top2Vec Parameters:\n",
      "{\n",
      "    \"embedding_model\": \"universal-sentence-encoder-multilingual-large\",\n",
      "    \"min_count\": 10,\n",
      "    \"algorithm\": \"top2vec\",\n",
      "    \"num_topics\": 4,\n",
      "    \"doc2vec_speed\": \"learn\",\n",
      "    \"umap_args\": {\n",
      "        \"n_neighbors\": 15,\n",
      "        \"n_components\": [\n",
      "            3,\n",
      "            5,\n",
      "            7\n",
      "        ],\n",
      "        \"metric\": \"cosine\",\n",
      "        \"random_state\": 42\n",
      "    },\n",
      "    \"hdbscan_args\": {\n",
      "        \"min_cluster_size\": [\n",
      "            5,\n",
      "            10,\n",
      "            15\n",
      "        ],\n",
      "        \"metric\": \"euclidean\",\n",
      "        \"cluster_selection_method\": \"eom\"\n",
      "    },\n",
      "    \"data_name\": \"crisis_01\",\n",
      "    \"run_id\": 1658616489\n",
      "}\n",
      "[INFO] The embedding model folder:\"./pretrained_models/sentence-transformers_distiluse-base-multilingual-cased\" found, so no need to download.\n",
      "[INFO] The embedding model folder:\"./pretrained_models/sentence-transformers_all-MiniLM-L6-v2\" found, so no need to download.\n",
      "[INFO] The embedding model folder:\"./pretrained_models/sentence-transformers_paraphrase-multilingual-MiniLM-L12-v2\" found, so no need to download.\n",
      "[INFO] The embedding model folder:\"./pretrained_models/universal-sentence-encoder\" found, so no need to download.\n",
      "[INFO] The embedding model folder:\"./pretrained_models/universal-sentence-encoder-multilingual\" found, so no need to download.\n",
      "[INFO] The embedding model folder:\"./pretrained_models/universal-sentence-encoder-large\" found, so no need to download.\n",
      "[INFO] The embedding model folder:\"./pretrained_models/universal-sentence-encoder-multilingual-large\" found, so no need to download.\n",
      "[INFO] Top2Vec with name:\"top2vec\" is running for dataset:\"crisis_01\".\n"
     ]
    },
    {
     "name": "stderr",
     "output_type": "stream",
     "text": [
      "2022-07-24 00:48:25,118 - top2vec - INFO - Loading universal-sentence-encoder-multilingual-large model at ./pretrained_models/universal-sentence-encoder-multilingual-large\n",
      "2022-07-24 00:48:25,118 INFO:Loading universal-sentence-encoder-multilingual-large model at ./pretrained_models/universal-sentence-encoder-multilingual-large\n",
      "2022-07-24 00:48:26.003477: W tensorflow/stream_executor/platform/default/dso_loader.cc:64] Could not load dynamic library 'libcuda.so.1'; dlerror: libcuda.so.1: cannot open shared object file: No such file or directory\n",
      "2022-07-24 00:48:26.003497: W tensorflow/stream_executor/cuda/cuda_driver.cc:269] failed call to cuInit: UNKNOWN ERROR (303)\n",
      "2022-07-24 00:48:26.003511: I tensorflow/stream_executor/cuda/cuda_diagnostics.cc:156] kernel driver does not appear to be running on this host (iceking-ThinkPad-T490): /proc/driver/nvidia/version does not exist\n",
      "2022-07-24 00:48:26.003733: I tensorflow/core/platform/cpu_feature_guard.cc:193] This TensorFlow binary is optimized with oneAPI Deep Neural Network Library (oneDNN) to use the following CPU instructions in performance-critical operations:  AVX2 FMA\n",
      "To enable them in other operations, rebuild TensorFlow with the appropriate compiler flags.\n",
      "2022-07-24 00:48:29,921 - top2vec - INFO - Creating joint document/word embedding\n",
      "2022-07-24 00:48:29,921 INFO:Creating joint document/word embedding\n"
     ]
    }
   ],
   "source": [
    "from src.bulk_runner import OUTPUT_FOLDER\n",
    "from src.bulk_runner import main_runner\n",
    "if os.path.exists(OUTPUT_FOLDER):\n",
    "    shutil.rmtree(OUTPUT_FOLDER)\n",
    "dfs_output_topic_word = []\n",
    "for configs in combinations:\n",
    "    try:\n",
    "        df_output_topic_word = main_runner(configs=configs)\n",
    "        dfs_output_topic_word.append(df_output_topic_word)\n",
    "    except Exception:\n",
    "        print('[WARN] Current execution gave an error!')\n",
    "        sleep(10)\n",
    "        continue\n",
    "pd.concat(dfs_output_topic_word).to_csv(f'./{OUTPUT_FOLDER}/merged.csv')"
   ]
  }
 ],
 "metadata": {
  "kernelspec": {
   "display_name": "Python 3 (ipykernel)",
   "language": "python",
   "name": "python3"
  },
  "language_info": {
   "codemirror_mode": {
    "name": "ipython",
    "version": 3
   },
   "file_extension": ".py",
   "mimetype": "text/x-python",
   "name": "python",
   "nbconvert_exporter": "python",
   "pygments_lexer": "ipython3",
   "version": "3.8.10"
  }
 },
 "nbformat": 4,
 "nbformat_minor": 5
}
