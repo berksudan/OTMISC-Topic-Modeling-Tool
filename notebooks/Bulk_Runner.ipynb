{
 "cells": [
  {
   "cell_type": "markdown",
   "id": "61510b1e",
   "metadata": {},
   "source": [
    "## Import libaries"
   ]
  },
  {
   "cell_type": "code",
   "execution_count": 1,
   "id": "8104b895",
   "metadata": {},
   "outputs": [
    {
     "name": "stdout",
     "output_type": "stream",
     "text": [
      "[INFO] Current Directory: \"/home/iceking/Desktop/22SS-TUM Lecture Docs/3. Praktikum (IN2106, IN4249)/Repo/topic-modeling-advancements\".\n"
     ]
    }
   ],
   "source": [
    "import os\n",
    "import sys\n",
    "assert os.path.exists('../src'), f\"[ERROR] The path src not detected in the parent directory '{os.getcwd()}'.\"\n",
    "\n",
    "if os.getcwd().endswith('/notebooks'):\n",
    "    os.chdir('..')\n",
    "    sys.path.append('./src')\n",
    "\n",
    "print(f'[INFO] Current Directory: \"{os.getcwd()}\".')"
   ]
  },
  {
   "cell_type": "code",
   "execution_count": 9,
   "id": "9f7dab30",
   "metadata": {},
   "outputs": [
    {
     "name": "stdout",
     "output_type": "stream",
     "text": [
      "The autoreload extension is already loaded. To reload it, use:\n",
      "  %reload_ext autoreload\n"
     ]
    }
   ],
   "source": [
    "%load_ext autoreload\n",
    "%autoreload 2\n",
    "\n",
    "\n",
    "from src import preprocessor\n",
    "from src.utils import load_documents\n",
    "import nltk\n",
    "import json\n",
    "import ast\n",
    "import pandas as pd\n",
    "import time\n",
    "import shutil"
   ]
  },
  {
   "cell_type": "code",
   "execution_count": 11,
   "id": "57065f1e",
   "metadata": {},
   "outputs": [],
   "source": [
    "from src.bulk_runner import OUTPUT_FOLDER\n",
    "from src.bulk_runner import main_runner"
   ]
  },
  {
   "cell_type": "code",
   "execution_count": 12,
   "id": "34c1f6c3",
   "metadata": {},
   "outputs": [],
   "source": [
    "if os.path.exists(OUTPUT_FOLDER):\n",
    "    shutil.rmtree(OUTPUT_FOLDER)"
   ]
  },
  {
   "cell_type": "code",
   "execution_count": 30,
   "id": "3853b1c9",
   "metadata": {},
   "outputs": [],
   "source": [
    "combinations = []\n",
    "\n",
    "for comb_filename in ['combinations.txt','combinations_ctm.txt']:\n",
    "    with open(comb_filename) as comb_file:\n",
    "        for i,item in enumerate(comb_file.readlines()):\n",
    "            #item = item.replace(\"'\",'\"')\n",
    "            x= ast.literal_eval(item)\n",
    "            combinations.append(x)"
   ]
  },
  {
   "cell_type": "code",
   "execution_count": null,
   "id": "d07ef489",
   "metadata": {},
   "outputs": [
    {
     "name": "stderr",
     "output_type": "stream",
     "text": [
      "2022-07-24 02:06:22,329 - top2vec - INFO - Pre-processing documents for training\n",
      "2022-07-24 02:06:22,329 INFO:Pre-processing documents for training\n"
     ]
    },
    {
     "name": "stdout",
     "output_type": "stream",
     "text": [
      "[INFO] Configs #0/1974: {'algorithm_args': {'embedding_model': 'doc2vec', 'min_count': 40, 'algorithm': 'top2vec', 'num_topics': 4, 'doc2vec_speed': 'learn', 'umap_args': {'n_neighbors': 15, 'n_components': 5, 'metric': 'cosine', 'random_state': 42}, 'hdbscan_args': {'min_cluster_size': 10, 'metric': 'euclidean', 'cluster_selection_method': 'eom'}}, 'preprocessing_funcs': [], 'dataset': 'crisis_12'}\n",
      "[WARN] [PREPROCESSOR] Preprocessing functions are empty or None, given:\"[]\", preprocessing is skipped.\n",
      "[INFO] Running with 4 topics.\n",
      "[INFO] Top2Vec Parameters:\n",
      "{\n",
      "    \"embedding_model\": \"doc2vec\",\n",
      "    \"min_count\": 40,\n",
      "    \"algorithm\": \"top2vec\",\n",
      "    \"num_topics\": 4,\n",
      "    \"doc2vec_speed\": \"learn\",\n",
      "    \"umap_args\": {\n",
      "        \"n_neighbors\": 15,\n",
      "        \"n_components\": 5,\n",
      "        \"metric\": \"cosine\",\n",
      "        \"random_state\": 42\n",
      "    },\n",
      "    \"hdbscan_args\": {\n",
      "        \"min_cluster_size\": 10,\n",
      "        \"metric\": \"euclidean\",\n",
      "        \"cluster_selection_method\": \"eom\"\n",
      "    },\n",
      "    \"data_name\": \"crisis_12\",\n",
      "    \"run_id\": 1658621182\n",
      "}\n",
      "[INFO] The embedding model folder:\"./pretrained_models/sentence-transformers_distiluse-base-multilingual-cased\" found, so no need to download.\n",
      "[INFO] The embedding model folder:\"./pretrained_models/sentence-transformers_all-MiniLM-L6-v2\" found, so no need to download.\n",
      "[INFO] The embedding model folder:\"./pretrained_models/sentence-transformers_paraphrase-multilingual-MiniLM-L12-v2\" found, so no need to download.\n",
      "[INFO] The embedding model folder:\"./pretrained_models/universal-sentence-encoder\" found, so no need to download.\n",
      "[INFO] The embedding model folder:\"./pretrained_models/universal-sentence-encoder-multilingual\" found, so no need to download.\n",
      "[INFO] The embedding model folder:\"./pretrained_models/universal-sentence-encoder-large\" found, so no need to download.\n",
      "[INFO] The embedding model folder:\"./pretrained_models/universal-sentence-encoder-multilingual-large\" found, so no need to download.\n",
      "[INFO] Top2Vec with name:\"top2vec\" is running for dataset:\"crisis_12\".\n"
     ]
    },
    {
     "name": "stderr",
     "output_type": "stream",
     "text": [
      "2022-07-24 02:06:22,563 - top2vec - INFO - Creating joint document/word embedding\n",
      "2022-07-24 02:06:22,563 INFO:Creating joint document/word embedding\n",
      "2022-07-24 02:06:43,957 - top2vec - INFO - Creating lower dimension embedding of documents\n",
      "2022-07-24 02:06:43,957 INFO:Creating lower dimension embedding of documents\n",
      "2022-07-24 02:07:26,149 - top2vec - INFO - Finding dense areas of documents\n",
      "2022-07-24 02:07:26,149 INFO:Finding dense areas of documents\n",
      "2022-07-24 02:07:26,313 - top2vec - INFO - Finding topics\n",
      "2022-07-24 02:07:26,313 INFO:Finding topics\n"
     ]
    },
    {
     "name": "stdout",
     "output_type": "stream",
     "text": [
      "[INFO] Original (Non-reduced) Number of Topics: 4.\n",
      "[WARN] # of topics is pre-specified but non_reduced_num_topics <= num_topics, so not reduced!\n",
      "   > non_reduced_num_topics:4, given num_topics:4!\n",
      "[INFO] Topic #00:\n",
      "     > From Reduced Model:False.\n",
      "     > Topic Size:5334.\n",
      "     > Topic Words: ['through' 'love' 'out' 'watch' 'some' 'day' 'too' 'first' 'been' 'no'\n",
      "\t\t 'good' 'affected' 'gonna' 'show' 'city' 'water' 'damn' 'right' 'since'\n",
      "\t\t 'really' 'areas' 'know' 'weather' 'lmao' 'get' 'man' 'thoughts' 'can'\n",
      "\t\t 'breaking' 'why' 'bad' 'stop' 'like' 'disaster' 'be' 'hit' 'other'\n",
      "\t\t 'around' 'effect' 'little' 'amp' 'cyclonedebbie' 'also' 'again' 'us'\n",
      "\t\t 'another' 'fucking' 'he' 'safe' 'news']\n",
      "     > Topic Word Scores: [0.9957713  0.9953993  0.99530977 0.99517995 0.9950213  0.99501574\n",
      "\t\t 0.9948502  0.99465805 0.994607   0.99450254 0.99442506 0.9942891\n",
      "\t\t 0.994256   0.9940499  0.99395394 0.99380696 0.99365807 0.993561\n",
      "\t\t 0.99355847 0.9935176  0.99346924 0.99325305 0.993179   0.99310005\n",
      "\t\t 0.99299645 0.99297696 0.9928748  0.9928649  0.9928242  0.992776\n",
      "\t\t 0.9927133  0.99262047 0.99254316 0.992502   0.99250144 0.9923191\n",
      "\t\t 0.9922199  0.9920866  0.9919659  0.99195004 0.99191576 0.991811\n",
      "\t\t 0.99176776 0.9917492  0.99171394 0.9916463  0.9916216  0.9916142\n",
      "\t\t 0.9915713  0.99155533]\n",
      "[INFO] Topic #01:\n",
      "     > From Reduced Model:False.\n",
      "     > Topic Size:1092.\n",
      "     > Topic Words: ['tweet' 'will' 'going' 'on' 'we' 'due' 'evacuees' 'still' 'missing' 'all'\n",
      "\t\t 'phone' 'time' 'is' 'schools' 'co' 'to' 'how' 'bigwet' 'it' 'california'\n",
      "\t\t 'omg' 'today' 'debbie' 'area' 'anyone' 'way' 'need' 'zone' 'go' 'warning'\n",
      "\t\t 'with' 'state' 'keep' 'ex' 'the' 'ymmfire' 'was' 'you' 'people' 'east'\n",
      "\t\t 'everyone' 'pretty' 'and' 'are' 'in' 'make' 'felt' 'waters' 'at' 'closed']\n",
      "     > Topic Word Scores: [0.82822    0.71660674 0.7093747  0.70894283 0.7029372  0.6992934\n",
      "\t\t 0.6885242  0.6865311  0.68295497 0.680432   0.6800006  0.67965454\n",
      "\t\t 0.67943513 0.6777759  0.67116827 0.66972595 0.6635012  0.6605871\n",
      "\t\t 0.6592402  0.6513107  0.64545655 0.64535934 0.6421563  0.6399868\n",
      "\t\t 0.63687515 0.63629574 0.63603324 0.6319077  0.6292626  0.6254027\n",
      "\t\t 0.6236974  0.61858577 0.6185647  0.6136644  0.6129861  0.60978216\n",
      "\t\t 0.6082696  0.60687405 0.60354775 0.6002338  0.59937924 0.5978547\n",
      "\t\t 0.596701   0.59629714 0.59328425 0.5924542  0.58650607 0.58493704\n",
      "\t\t 0.58472806 0.58177894]\n",
      "[INFO] Topic #02:\n",
      "     > From Reduced Model:False.\n",
      "     > Topic Size:827.\n",
      "     > Topic Words: ['tweet' 'evacuees' 'missing' 'california' 'co' 'will' 'on' 'utc' 'we'\n",
      "\t\t 'going' 'time' 'due' 'to' 'schools' 'hawaii' 'is' 'still' 'warning' 'way'\n",
      "\t\t 'all' 'phone' 'how' 'debbie' 'bigwet' 'in' 'it' 'omg' 'area' 'the' 'zone'\n",
      "\t\t 'go' 'and' 'with' 'my' 'today' 'anyone' 'ymmfire' 'wine' 'you' 'people'\n",
      "\t\t 'ex' 'need' 'state' 'least' 'are' 'keep' 'east' 'was' 'canadian' 'fire']\n",
      "     > Topic Word Scores: [-0.63996434 -0.74317485 -0.7681799  -0.77724785 -0.7920214  -0.79514015\n",
      "\t\t -0.8003235  -0.80315423 -0.80385435 -0.8044858  -0.8046496  -0.81012017\n",
      "\t\t -0.8149383  -0.81585765 -0.81761044 -0.8187414  -0.8214694  -0.8276062\n",
      "\t\t -0.82842094 -0.8304892  -0.8304993  -0.8329443  -0.8410899  -0.8419246\n",
      "\t\t -0.8426986  -0.84413576 -0.84537125 -0.8500703  -0.8508567  -0.85459703\n",
      "\t\t -0.85509104 -0.8553144  -0.8570771  -0.85710907 -0.85733145 -0.8574784\n",
      "\t\t -0.85789114 -0.85873854 -0.85983515 -0.8611973  -0.86127937 -0.8615528\n",
      "\t\t -0.86188275 -0.86404884 -0.8675927  -0.86776376 -0.8729053  -0.8746827\n",
      "\t\t -0.87533116 -0.8772634 ]\n",
      "[INFO] Topic #03:\n",
      "     > From Reduced Model:False.\n",
      "     > Topic Size:747.\n",
      "     > Topic Words: ['double' 'makes' 'control' 'bay' 'island' 'km' 'san' 'say' 'would' 'size'\n",
      "\t\t 'australia' 'hits' 'canada' 'huge' 'wild' 'wow' 'deadly' 'country'\n",
      "\t\t 'before' 'look' 'real' 'could' 'magnitude' 'wet' 'its' 'into' 'shark'\n",
      "\t\t 'cnn' 'sf' 'near' 'utc' 'aftermath' 'youtube' 'continues' 'left' 've'\n",
      "\t\t 'then' 'emergency' 'new' 'else' 'burn' 'school' 'me' 'storm' 'massive'\n",
      "\t\t 'sad' 'homes' 're' 'residents' 'cancelled']\n",
      "     > Topic Word Scores: [0.8438799  0.7915316  0.78590524 0.7747419  0.76459324 0.7576774\n",
      "\t\t 0.7564847  0.74683136 0.7447905  0.73594177 0.7163378  0.7152093\n",
      "\t\t 0.70512253 0.6952221  0.69307035 0.69190264 0.6916466  0.686551\n",
      "\t\t 0.68092686 0.67842025 0.6778162  0.6731389  0.6704599  0.6696593\n",
      "\t\t 0.66961515 0.668824   0.66800827 0.6668869  0.6641855  0.6638105\n",
      "\t\t 0.6637332  0.6605904  0.65747976 0.65745807 0.657059   0.6550084\n",
      "\t\t 0.6541971  0.6534493  0.6527466  0.64965665 0.6479336  0.6453623\n",
      "\t\t 0.64460033 0.6442062  0.64331645 0.6423534  0.6416384  0.63797694\n",
      "\t\t 0.6375986  0.6374694 ]\n",
      "[INFO] Top2Vec successfully terminated for data:\"crisis_12\".\n",
      "[INFO] Creating Topic Similarity Matrix..\n"
     ]
    },
    {
     "name": "stderr",
     "output_type": "stream",
     "text": [
      "[0724/020730.572290:WARNING:sandbox_linux.cc(376)] InitializeSandbox() called with multiple threads in process gpu-process.\n",
      "[0724/020730.583968:WARNING:bluez_dbus_manager.cc(247)] Floss manager not present, cannot set Floss enable/disable.\n",
      "[0724/020731.039609:INFO:headless_shell.cc(660)] Written to file /home/iceking/Desktop/22SS-TUM Lecture Docs/3. Praktikum (IN2106, IN4249)/Repo/topic-modeling-advancements/output/1658621182_top2vec/vis_topic_similarity_matrix.png.\n"
     ]
    },
    {
     "name": "stdout",
     "output_type": "stream",
     "text": [
      "[INFO] Created Topic Similarity Matrix successfully.\n",
      "[INFO] Created Top Words Barchart Visualization successfully.\n",
      "[INFO] Creating UMAP 2D Scatter Plot..\n",
      "[INFO] UMAP Arguments for Visualization:{'n_neighbors': 15, 'n_components': 2, 'metric': 'cosine', 'random_state': 42}\n",
      "[INFO] UMAP Model is being fitted..\n"
     ]
    }
   ],
   "source": [
    "    dfs_merged=pd.DataFrame()\n",
    "    for i,configs in enumerate(combinations):\n",
    "        print(f'[INFO] Configs #{i}/{len(combinations)}: {configs}')\n",
    "        try:\n",
    "            df_output_topic_word = main_runner(configs=configs)\n",
    "            dfs_merged = pd.concat([dfs_merged,df_output_topic_word])\n",
    "            pd.concat(dfs_merged).to_csv(f'./{OUTPUT_FOLDER}/merged.csv')\n",
    "        except Exception:\n",
    "            print('[WARN] Current execution gave an error!')\n",
    "            time.sleep(10)\n",
    "            continue\n"
   ]
  },
  {
   "cell_type": "code",
   "execution_count": null,
   "id": "9527c9ea",
   "metadata": {},
   "outputs": [],
   "source": []
  }
 ],
 "metadata": {
  "kernelspec": {
   "display_name": "Python 3 (ipykernel)",
   "language": "python",
   "name": "python3"
  },
  "language_info": {
   "codemirror_mode": {
    "name": "ipython",
    "version": 3
   },
   "file_extension": ".py",
   "mimetype": "text/x-python",
   "name": "python",
   "nbconvert_exporter": "python",
   "pygments_lexer": "ipython3",
   "version": "3.8.10"
  }
 },
 "nbformat": 4,
 "nbformat_minor": 5
}
