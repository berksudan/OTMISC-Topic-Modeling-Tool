{
 "cells": [
  {
   "cell_type": "markdown",
   "id": "61510b1e",
   "metadata": {},
   "source": [
    "## Import libaries"
   ]
  },
  {
   "cell_type": "code",
   "execution_count": 1,
   "id": "b6bbf84e",
   "metadata": {},
   "outputs": [
    {
     "name": "stdout",
     "output_type": "stream",
     "text": [
      "[INFO] Current Directory: \"/home/iceking/Desktop/22SS-TUM Lecture Docs/3. Praktikum (IN2106, IN4249)/Repo/topic-modeling-advancements\".\n"
     ]
    }
   ],
   "source": [
    "import os\n",
    "import sys\n",
    "assert os.path.exists('../src'), f\"[ERROR] The path src not detected in the parent directory '{os.getcwd()}'.\"\n",
    "\n",
    "if os.getcwd().endswith('/notebooks'):\n",
    "    os.chdir('..')\n",
    "    sys.path.append('./src')\n",
    "\n",
    "print(f'[INFO] Current Directory: \"{os.getcwd()}\".')"
   ]
  },
  {
   "cell_type": "code",
   "execution_count": 33,
   "id": "e1e36cc1",
   "metadata": {},
   "outputs": [
    {
     "name": "stdout",
     "output_type": "stream",
     "text": [
      "The autoreload extension is already loaded. To reload it, use:\n",
      "  %reload_ext autoreload\n"
     ]
    }
   ],
   "source": [
    "%load_ext autoreload\n",
    "%autoreload 2\n",
    "\n",
    "\n",
    "from src import preprocessor\n",
    "from src.utils import load_documents\n",
    "import nltk\n",
    "import json\n",
    "import ast\n",
    "import pandas as pd\n",
    "from time import time\n",
    "import shutil"
   ]
  },
  {
   "cell_type": "code",
   "execution_count": 40,
   "id": "3715e7fb",
   "metadata": {},
   "outputs": [],
   "source": [
    "from src.bulk_runner import OUTPUT_FOLDER\n",
    "from src.bulk_runner import main_runner"
   ]
  },
  {
   "cell_type": "code",
   "execution_count": null,
   "id": "c11ea6c7",
   "metadata": {},
   "outputs": [],
   "source": [
    "if os.path.exists(OUTPUT_FOLDER):\n",
    "    shutil.rmtree(OUTPUT_FOLDER)"
   ]
  },
  {
   "cell_type": "code",
   "execution_count": 45,
   "id": "d8c07f17",
   "metadata": {},
   "outputs": [],
   "source": [
    "combinations = []\n",
    "\n",
    "for comb_filename in ['combinations.txt','combinations_ctm.txt']:\n",
    "    with open(comb_filename) as comb_file:\n",
    "        for item in comb_file.readlines():\n",
    "            #item = item.replace(\"'\",'\"')\n",
    "            x= ast.literal_eval(item)\n",
    "            combinations.append(x)"
   ]
  },
  {
   "cell_type": "code",
   "execution_count": null,
   "id": "de4fbcd4",
   "metadata": {},
   "outputs": [
    {
     "name": "stdout",
     "output_type": "stream",
     "text": [
      "[INFO] Configs #0/1629: {'algorithm_args': {'embedding_model': 'paraphrase-multilingual-MiniLM-L12-v2', 'top_n_words': 15, 'algorithm': 'bertopic', 'n_gram_range_tuple': (1, 1), 'min_docs_per_topic': 15, 'num_topics': 4, 'cluster_model': 'hdbscan', 'hdbscan_args': {'min_cluster_size': 15, 'metric': 'euclidean', 'cluster_selection_method': 'eom', 'prediction_data': True}, 'umap_args': {'n_neighbors': 15, 'n_components': 3, 'min_dist': 0.0, 'metric': 'cosine', 'low_memory': False, 'random_state': 42}}, 'preprocessing_funcs': ['to_lowercase', 'standardize_accented_chars', 'remove_url', 'expand_contractions', 'remove_mentions', 'remove_hashtags', 'keep_only_alphabet', 'remove_english_stop_words', 'lemmatize_noun'], 'dataset': 'crisis_12'}\n",
      "[INFO] [PREPROCESSOR] Available Preprocessing Functions in the Module:['to_lowercase', 'standardize_accented_chars', 'remove_url', 'expand_missing_delimiter', 'remove_mentions', 'remove_hashtags', 'keep_only_alphabet', 'remove_new_lines', 'remove_extra_spaces', 'remove_html_tags', 'expand_contractions', 'remove_english_stop_words', 'lemmatize', 'lemmatize_verb', 'lemmatize_noun', 'lemmatize_adjective', 'correct_typo']\n",
      "[INFO] [PREPROCESSOR] Preprocessing starting..\n",
      "[INFO] [PREPROCESSOR] These string preprocessing methods will be applied to the data in order:\n",
      "(  'to_lowercase',\n",
      "   'standardize_accented_chars',\n",
      "   'remove_url',\n",
      "   'remove_mentions',\n",
      "   'remove_hashtags',\n",
      "   'keep_only_alphabet')\n",
      "[INFO] [PREPROCESSOR] Then, these tokenized preprocessing methods will be applied in order:\n",
      "(  '__tokenize',\n",
      "   'expand_contractions',\n",
      "   'remove_english_stop_words',\n",
      "   'lemmatize_noun',\n",
      "   '__glue')\n",
      "[INFO] [PREPROCESSOR] Preprocessing completed in 17.758 seconds..\n",
      "[INFO] Running with 4 topics.\n",
      "[INFO] The embedding model folder:\"./pretrained_models/sentence-transformers_all-mpnet-base-v2\" found, so no need to download.\n",
      "[INFO] The embedding model folder:\"./pretrained_models/sentence-transformers_all-distilroberta-v1\" found, so no need to download.\n",
      "[INFO] The embedding model folder:\"./pretrained_models/sentence-transformers_all-MiniLM-L12-v2\" found, so no need to download.\n",
      "[INFO] The embedding model folder:\"./pretrained_models/sentence-transformers_all-MiniLM-L6-v2\" found, so no need to download.\n",
      "[INFO] The embedding model folder:\"./pretrained_models/sentence-transformers_paraphrase-multilingual-MiniLM-L12-v2\" found, so no need to download.\n",
      "[INFO] Embeddings are being encoded..\n"
     ]
    },
    {
     "data": {
      "application/vnd.jupyter.widget-view+json": {
       "model_id": "45d1b285f6ae44d0959bfeca016e5f56",
       "version_major": 2,
       "version_minor": 0
      },
      "text/plain": [
       "Batches:   0%|          | 0/250 [00:00<?, ?it/s]"
      ]
     },
     "metadata": {},
     "output_type": "display_data"
    }
   ],
   "source": [
    "    dfs_merged=pd.DataFrame()\n",
    "    for i,configs in enumerate(combinations):\n",
    "        print(f'[INFO] Configs #{i}/{len(combinations)}: {configs}')\n",
    "        try:\n",
    "            df_output_topic_word = main_runner(configs=configs)\n",
    "            dfs_merged = pd.concat([dfs_merged,df_output_topic_word])\n",
    "            pd.concat(dfs_merged).to_csv(f'./{OUTPUT_FOLDER}/merged.csv')\n",
    "        except Exception:\n",
    "            print('[WARN] Current execution gave an error!')\n",
    "            time.sleep(10)\n",
    "            continue\n"
   ]
  },
  {
   "cell_type": "code",
   "execution_count": null,
   "id": "c334109b",
   "metadata": {},
   "outputs": [],
   "source": []
  }
 ],
 "metadata": {
  "kernelspec": {
   "display_name": "Python 3 (ipykernel)",
   "language": "python",
   "name": "python3"
  },
  "language_info": {
   "codemirror_mode": {
    "name": "ipython",
    "version": 3
   },
   "file_extension": ".py",
   "mimetype": "text/x-python",
   "name": "python",
   "nbconvert_exporter": "python",
   "pygments_lexer": "ipython3",
   "version": "3.8.10"
  }
 },
 "nbformat": 4,
 "nbformat_minor": 5
}
