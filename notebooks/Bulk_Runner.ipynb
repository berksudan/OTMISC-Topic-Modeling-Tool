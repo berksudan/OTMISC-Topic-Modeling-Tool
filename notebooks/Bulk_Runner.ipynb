{
 "cells": [
  {
   "cell_type": "markdown",
   "id": "61510b1e",
   "metadata": {},
   "source": [
    "## Import libaries"
   ]
  },
  {
   "cell_type": "code",
   "execution_count": 1,
   "id": "4617ae8a",
   "metadata": {},
   "outputs": [
    {
     "name": "stdout",
     "output_type": "stream",
     "text": [
      "[INFO] Current Directory: \"/home/iceking/Desktop/22SS-TUM Lecture Docs/3. Praktikum (IN2106, IN4249)/Repo/topic-modeling-advancements\".\n"
     ]
    }
   ],
   "source": [
    "import os\n",
    "import sys\n",
    "assert os.path.exists('../src'), f\"[ERROR] The path src not detected in the parent directory '{os.getcwd()}'.\"\n",
    "\n",
    "if os.getcwd().endswith('/notebooks'):\n",
    "    os.chdir('..')\n",
    "    sys.path.append('./src')\n",
    "\n",
    "print(f'[INFO] Current Directory: \"{os.getcwd()}\".')"
   ]
  },
  {
   "cell_type": "code",
   "execution_count": 11,
   "id": "db4d18cf",
   "metadata": {},
   "outputs": [
    {
     "name": "stdout",
     "output_type": "stream",
     "text": [
      "The autoreload extension is already loaded. To reload it, use:\n",
      "  %reload_ext autoreload\n"
     ]
    }
   ],
   "source": [
    "%load_ext autoreload\n",
    "%autoreload 2\n",
    "\n",
    "\n",
    "from src import preprocessor\n",
    "from src.utils import load_documents\n",
    "import nltk\n",
    "import json\n",
    "import ast\n",
    "from time import time\n",
    "import shutil"
   ]
  },
  {
   "cell_type": "code",
   "execution_count": 26,
   "id": "fc453222",
   "metadata": {},
   "outputs": [],
   "source": [
    "combinations = []\n",
    "with open('combinations.txt') as comb_file:\n",
    "    for item in comb_file.readlines():\n",
    "        #item = item.replace(\"'\",'\"')\n",
    "        x= ast.literal_eval(item)\n",
    "        combinations.append(x)"
   ]
  },
  {
   "cell_type": "code",
   "execution_count": null,
   "id": "e82b4002",
   "metadata": {},
   "outputs": [
    {
     "name": "stdout",
     "output_type": "stream",
     "text": [
      "[INFO] Configs #0/1629: {'algorithm_args': {'embedding_model': 'all-distilroberta-v1', 'top_n_words': 5, 'algorithm': 'bertopic', 'n_gram_range_tuple': (1, 1), 'min_docs_per_topic': 15, 'num_topics': 4, 'cluster_model': 'hdbscan', 'hdbscan_args': {'min_cluster_size': 5, 'metric': 'euclidean', 'cluster_selection_method': 'eom', 'prediction_data': True}, 'umap_args': {'n_neighbors': 15, 'n_components': 3, 'min_dist': 0.0, 'metric': 'cosine', 'low_memory': False, 'random_state': 42}}, 'preprocessing_funcs': [], 'dataset': 'crisis_12'}\n",
      "[WARN] [PREPROCESSOR] Preprocessing functions are empty or None, given:\"[]\", preprocessing is skipped.\n",
      "[INFO] Running with 4 topics.\n",
      "[INFO] The embedding model folder:\"./pretrained_models/sentence-transformers_all-mpnet-base-v2\" found, so no need to download.\n",
      "[INFO] The embedding model folder:\"./pretrained_models/sentence-transformers_all-distilroberta-v1\" found, so no need to download.\n",
      "[INFO] The embedding model folder:\"./pretrained_models/sentence-transformers_all-MiniLM-L12-v2\" found, so no need to download.\n",
      "[INFO] The embedding model folder:\"./pretrained_models/sentence-transformers_all-MiniLM-L6-v2\" found, so no need to download.\n",
      "[INFO] The embedding model folder:\"./pretrained_models/sentence-transformers_paraphrase-multilingual-MiniLM-L12-v2\" found, so no need to download.\n",
      "[INFO] Embeddings are being encoded..\n"
     ]
    },
    {
     "data": {
      "application/vnd.jupyter.widget-view+json": {
       "model_id": "88077485fb8643308d4b16f839838f5d",
       "version_major": 2,
       "version_minor": 0
      },
      "text/plain": [
       "Batches:   0%|          | 0/250 [00:00<?, ?it/s]"
      ]
     },
     "metadata": {},
     "output_type": "display_data"
    },
    {
     "name": "stdout",
     "output_type": "stream",
     "text": [
      "[INFO] Embeddings encoded successfully.\n",
      "[INFO] Embedding Model created with SentenceTransformer.\n"
     ]
    },
    {
     "name": "stderr",
     "output_type": "stream",
     "text": [
      "2022-07-24 01:15:20,442 - BERTopic - Reduced dimensionality\n",
      "2022-07-24 01:15:20,766 - BERTopic - Clustered reduced embeddings\n",
      "2022-07-24 01:15:22,186 - BERTopic - Reduced number of topics from 257 to 5\n"
     ]
    },
    {
     "name": "stdout",
     "output_type": "stream",
     "text": [
      "[INFO] Creating Topic Similarity Matrix..\n"
     ]
    },
    {
     "name": "stderr",
     "output_type": "stream",
     "text": [
      "[0724/011524.018523:WARNING:sandbox_linux.cc(376)] InitializeSandbox() called with multiple threads in process gpu-process.\n",
      "[0724/011524.028605:WARNING:bluez_dbus_manager.cc(247)] Floss manager not present, cannot set Floss enable/disable.\n",
      "[0724/011524.504526:INFO:headless_shell.cc(660)] Written to file /home/iceking/Desktop/22SS-TUM Lecture Docs/3. Praktikum (IN2106, IN4249)/Repo/topic-modeling-advancements/output/1658617892_bertopic/vis_topic_similarity_matrix.png.\n"
     ]
    },
    {
     "name": "stdout",
     "output_type": "stream",
     "text": [
      "[INFO] Created Topic Similarity Matrix successfully.\n",
      "[INFO] Created Top Words Barchart Visualization successfully.\n",
      "[INFO] Creating UMAP 2D Scatter Plot..\n",
      "[INFO] UMAP Arguments for Visualization:{'n_neighbors': 15, 'n_components': 2, 'min_dist': 0.0, 'metric': 'cosine', 'low_memory': False, 'random_state': 42}\n",
      "[INFO] UMAP Model is being fitted..\n",
      "[INFO] UMAP Model successfully fitted.\n",
      "[INFO] Created UMAP 2D Scatter Plot successfully.\n",
      "[INFO] Creating Labels Per Topic Visualization..\n"
     ]
    },
    {
     "name": "stderr",
     "output_type": "stream",
     "text": [
      "[0724/011535.622234:WARNING:sandbox_linux.cc(376)] InitializeSandbox() called with multiple threads in process gpu-process.\n",
      "[0724/011535.631990:WARNING:bluez_dbus_manager.cc(247)] Floss manager not present, cannot set Floss enable/disable.\n",
      "[0724/011536.207941:INFO:headless_shell.cc(660)] Written to file /home/iceking/Desktop/22SS-TUM Lecture Docs/3. Praktikum (IN2106, IN4249)/Repo/topic-modeling-advancements/output/1658617892_bertopic/vis_labels_per_topic.png.\n"
     ]
    },
    {
     "name": "stdout",
     "output_type": "stream",
     "text": [
      "[INFO] Created Labels Per Topic Visualization successfully.\n",
      "[INFO] Creating Top Words Barchart Visualization..\n"
     ]
    },
    {
     "name": "stderr",
     "output_type": "stream",
     "text": [
      "[0724/011536.567411:WARNING:sandbox_linux.cc(376)] InitializeSandbox() called with multiple threads in process gpu-process.\n",
      "[0724/011536.575983:WARNING:bluez_dbus_manager.cc(247)] Floss manager not present, cannot set Floss enable/disable.\n"
     ]
    },
    {
     "name": "stdout",
     "output_type": "stream",
     "text": [
      "[INFO] Created Top Words Barchart Visualization successfully.\n",
      "[INFO] Configs #1/1629: {'algorithm_args': {'embedding_model': 'paraphrase-multilingual-MiniLM-L12-v2', 'min_count': 10, 'algorithm': 'top2vec', 'num_topics': 2, 'doc2vec_speed': 'learn', 'umap_args': {'n_neighbors': 15, 'n_components': 3, 'metric': 'cosine', 'random_state': 42}, 'hdbscan_args': {'min_cluster_size': 15, 'metric': 'euclidean', 'cluster_selection_method': 'eom'}}, 'preprocessing_funcs': ['to_lowercase', 'standardize_accented_chars', 'remove_url', 'expand_contractions', 'expand_missing_delimiter', 'remove_mentions', 'remove_hashtags', 'remove_new_lines', 'remove_html_tags', 'keep_only_alphabet', 'remove_extra_spaces', 'remove_english_stop_words', 'lemmatize_noun', 'lemmatize_verb', 'lemmatize_adjective'], 'dataset': 'crisis_07'}\n",
      "[INFO] [PREPROCESSOR] Available Preprocessing Functions in the Module:['to_lowercase', 'standardize_accented_chars', 'remove_url', 'expand_missing_delimiter', 'remove_mentions', 'remove_hashtags', 'keep_only_alphabet', 'remove_new_lines', 'remove_extra_spaces', 'remove_html_tags', 'expand_contractions', 'remove_english_stop_words', 'lemmatize', 'lemmatize_verb', 'lemmatize_noun', 'lemmatize_adjective', 'correct_typo']\n",
      "[INFO] [PREPROCESSOR] Preprocessing starting..\n",
      "[INFO] [PREPROCESSOR] These string preprocessing methods will be applied to the data in order:\n",
      "(  'to_lowercase',\n",
      "   'standardize_accented_chars',\n",
      "   'remove_url',\n",
      "   'expand_missing_delimiter',\n",
      "   'remove_mentions',\n",
      "   'remove_hashtags',\n",
      "   'remove_new_lines',\n",
      "   'remove_html_tags',\n",
      "   'keep_only_alphabet',\n",
      "   'remove_extra_spaces')\n",
      "[INFO] [PREPROCESSOR] Then, these tokenized preprocessing methods will be applied in order:\n",
      "(  '__tokenize',\n",
      "   'expand_contractions',\n",
      "   'remove_english_stop_words',\n",
      "   'lemmatize_noun',\n",
      "   'lemmatize_verb',\n",
      "   'lemmatize_adjective',\n",
      "   '__glue')\n"
     ]
    },
    {
     "name": "stderr",
     "output_type": "stream",
     "text": [
      "[0724/011536.997376:INFO:headless_shell.cc(660)] Written to file /home/iceking/Desktop/22SS-TUM Lecture Docs/3. Praktikum (IN2106, IN4249)/Repo/topic-modeling-advancements/output/1658617892_bertopic/vis_top_words_barchart.png.\n",
      "2022-07-24 01:15:55,608 - top2vec - INFO - Pre-processing documents for training\n",
      "2022-07-24 01:15:55,608 INFO:Pre-processing documents for training\n"
     ]
    },
    {
     "name": "stdout",
     "output_type": "stream",
     "text": [
      "[INFO] [PREPROCESSOR] Preprocessing completed in 18.542 seconds..\n",
      "[INFO] Running with 2 topics.\n",
      "[INFO] Top2Vec Parameters:\n",
      "{\n",
      "    \"embedding_model\": \"paraphrase-multilingual-MiniLM-L12-v2\",\n",
      "    \"min_count\": 10,\n",
      "    \"algorithm\": \"top2vec\",\n",
      "    \"num_topics\": 2,\n",
      "    \"doc2vec_speed\": \"learn\",\n",
      "    \"umap_args\": {\n",
      "        \"n_neighbors\": 15,\n",
      "        \"n_components\": 3,\n",
      "        \"metric\": \"cosine\",\n",
      "        \"random_state\": 42\n",
      "    },\n",
      "    \"hdbscan_args\": {\n",
      "        \"min_cluster_size\": 15,\n",
      "        \"metric\": \"euclidean\",\n",
      "        \"cluster_selection_method\": \"eom\"\n",
      "    },\n",
      "    \"data_name\": \"crisis_07\",\n",
      "    \"run_id\": 1658618137\n",
      "}\n",
      "[INFO] The embedding model folder:\"./pretrained_models/sentence-transformers_distiluse-base-multilingual-cased\" found, so no need to download.\n",
      "[INFO] The embedding model folder:\"./pretrained_models/sentence-transformers_all-MiniLM-L6-v2\" found, so no need to download.\n",
      "[INFO] The embedding model folder:\"./pretrained_models/sentence-transformers_paraphrase-multilingual-MiniLM-L12-v2\" found, so no need to download.\n",
      "[INFO] The embedding model folder:\"./pretrained_models/universal-sentence-encoder\" found, so no need to download.\n",
      "[INFO] The embedding model folder:\"./pretrained_models/universal-sentence-encoder-multilingual\" found, so no need to download.\n",
      "[INFO] The embedding model folder:\"./pretrained_models/universal-sentence-encoder-large\" found, so no need to download.\n",
      "[INFO] The embedding model folder:\"./pretrained_models/universal-sentence-encoder-multilingual-large\" found, so no need to download.\n",
      "[INFO] Top2Vec with name:\"top2vec\" is running for dataset:\"crisis_07\".\n"
     ]
    },
    {
     "name": "stderr",
     "output_type": "stream",
     "text": [
      "2022-07-24 01:15:55,963 - top2vec - INFO - Loading paraphrase-multilingual-MiniLM-L12-v2 model at ./pretrained_models/sentence-transformers_paraphrase-multilingual-MiniLM-L12-v2\n",
      "2022-07-24 01:15:55,963 INFO:Loading paraphrase-multilingual-MiniLM-L12-v2 model at ./pretrained_models/sentence-transformers_paraphrase-multilingual-MiniLM-L12-v2\n",
      "2022-07-24 01:15:57,580 - top2vec - INFO - Creating joint document/word embedding\n",
      "2022-07-24 01:15:57,580 INFO:Creating joint document/word embedding\n"
     ]
    }
   ],
   "source": [
    "from src.bulk_runner import OUTPUT_FOLDER\n",
    "from src.bulk_runner import main_runner\n",
    "if os.path.exists(OUTPUT_FOLDER):\n",
    "    shutil.rmtree(OUTPUT_FOLDER)\n",
    "dfs_output_topic_word = []\n",
    "for i,configs in enumerate(combinations):\n",
    "    print(f'[INFO] Configs #{i}/{len(combinations)}: {configs}')\n",
    "    try:\n",
    "        df_output_topic_word = main_runner(configs=configs)\n",
    "        dfs_output_topic_word.append(df_output_topic_word)\n",
    "    except Exception:\n",
    "        print('[WARN] Current execution gave an error!')\n",
    "        sleep(10)\n",
    "        continue\n",
    "pd.concat(dfs_output_topic_word).to_csv(f'./{OUTPUT_FOLDER}/merged.csv')"
   ]
  },
  {
   "cell_type": "code",
   "execution_count": null,
   "id": "83f0dd7e",
   "metadata": {},
   "outputs": [],
   "source": []
  }
 ],
 "metadata": {
  "kernelspec": {
   "display_name": "Python 3 (ipykernel)",
   "language": "python",
   "name": "python3"
  },
  "language_info": {
   "codemirror_mode": {
    "name": "ipython",
    "version": 3
   },
   "file_extension": ".py",
   "mimetype": "text/x-python",
   "name": "python",
   "nbconvert_exporter": "python",
   "pygments_lexer": "ipython3",
   "version": "3.8.10"
  }
 },
 "nbformat": 4,
 "nbformat_minor": 5
}
