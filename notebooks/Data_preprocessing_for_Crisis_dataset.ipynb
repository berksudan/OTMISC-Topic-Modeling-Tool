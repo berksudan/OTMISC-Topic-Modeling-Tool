{
  "nbformat": 4,
  "nbformat_minor": 0,
  "metadata": {
    "colab": {
      "name": "Data preprocessing for Crisis dataset v1.0.ipynb",
      "provenance": [],
      "collapsed_sections": []
    },
    "kernelspec": {
      "name": "python3",
      "display_name": "Python 3"
    },
    "language_info": {
      "name": "python"
    }
  },
  "cells": [
    {
      "cell_type": "markdown",
      "source": [
        "# Tweets preprocessing"
      ],
      "metadata": {
        "id": "nBHtdxTcJdhF"
      }
    },
    {
      "cell_type": "code",
      "execution_count": 1,
      "metadata": {
        "id": "LMS2vC10Jc2x"
      },
      "outputs": [],
      "source": [
        "# Data preprocessing for Crisis dataset v1.0\n",
        "\n",
        "# This notebook is created in Google Colab, please change the paths to your file.\n",
        "# Every preprocessing method is seperate. You can choose the ones that you need. \n",
        "# Write me a note if something goes wrong or you need some new preprocessing methods.\n",
        "\n",
        "# Enjoy!"
      ]
    },
    {
      "cell_type": "code",
      "source": [
        "!pip install contractions"
      ],
      "metadata": {
        "colab": {
          "base_uri": "https://localhost:8080/"
        },
        "id": "rYwIyuAeMAit",
        "outputId": "4a67e0dc-ab7a-4467-b00e-050f9691b08e"
      },
      "execution_count": 2,
      "outputs": [
        {
          "output_type": "stream",
          "name": "stdout",
          "text": [
            "Requirement already satisfied: contractions in /usr/local/lib/python3.7/dist-packages (0.1.72)\n",
            "Requirement already satisfied: textsearch>=0.0.21 in /usr/local/lib/python3.7/dist-packages (from contractions) (0.0.21)\n",
            "Requirement already satisfied: anyascii in /usr/local/lib/python3.7/dist-packages (from textsearch>=0.0.21->contractions) (0.3.1)\n",
            "Requirement already satisfied: pyahocorasick in /usr/local/lib/python3.7/dist-packages (from textsearch>=0.0.21->contractions) (1.4.4)\n"
          ]
        }
      ]
    },
    {
      "cell_type": "code",
      "source": [
        "import pandas as pd\n",
        "import unicodedata\n",
        "import re\n",
        "import contractions\n",
        "\n",
        "import nltk\n",
        "from nltk.tokenize import word_tokenize\n",
        "from nltk.corpus import stopwords\n",
        "from nltk.stem import WordNetLemmatizer\n",
        "\n",
        "nltk.download('punkt')\n",
        "nltk.download('stopwords')\n",
        "nltk.download('wordnet')"
      ],
      "metadata": {
        "colab": {
          "base_uri": "https://localhost:8080/"
        },
        "id": "bHXNpFV6KHyY",
        "outputId": "19bfd8d4-8da5-4d3d-fc5a-825d27c28fdd"
      },
      "execution_count": 3,
      "outputs": [
        {
          "output_type": "stream",
          "name": "stdout",
          "text": [
            "[nltk_data] Downloading package punkt to /root/nltk_data...\n",
            "[nltk_data]   Package punkt is already up-to-date!\n",
            "[nltk_data] Downloading package stopwords to /root/nltk_data...\n",
            "[nltk_data]   Package stopwords is already up-to-date!\n",
            "[nltk_data] Downloading package wordnet to /root/nltk_data...\n",
            "[nltk_data]   Package wordnet is already up-to-date!\n"
          ]
        },
        {
          "output_type": "execute_result",
          "data": {
            "text/plain": [
              "True"
            ]
          },
          "metadata": {},
          "execution_count": 3
        }
      ]
    },
    {
      "cell_type": "code",
      "source": [
        "path = '/content/earthquakes_eyewitness_crowdflower_2000.tsv'\n",
        "tweets_df=pd.read_csv(path, sep=\"\\t\")\n",
        "\n",
        "tweets_df = tweets_df[['_unit_id', 'text']]\n",
        "tweets_df.rename(columns={'text':'Tweets'},inplace=True)"
      ],
      "metadata": {
        "id": "u5hl6svIKPNe"
      },
      "execution_count": 4,
      "outputs": []
    },
    {
      "cell_type": "code",
      "source": [
        "# Check this one before running\n",
        "tweets_df"
      ],
      "metadata": {
        "colab": {
          "base_uri": "https://localhost:8080/",
          "height": 424
        },
        "id": "ypGAFl0cKQsP",
        "outputId": "3389c28e-6123-48ea-8bb4-324d2b4be28a"
      },
      "execution_count": 5,
      "outputs": [
        {
          "output_type": "execute_result",
          "data": {
            "text/plain": [
              "        _unit_id                                             Tweets\n",
              "0     1846692712   TheReformedCrow Nah, I'm gonna go with earthq...\n",
              "1     1846692769                  I think we just had an earthquake\n",
              "2     1846692882              Uhh who else felt that earthquake tho\n",
              "3     1846694004           Bay area just had a nice size earthquake\n",
              "4     1846693321  Thought my dad was farting...turns out it was ...\n",
              "...          ...                                                ...\n",
              "1995  1846692449  5/13/18 10pm earthquake update dutchsinse http...\n",
              "1996  1846692498  M5.1 #earthquake (#sГ©isme) strikes 59 km E of...\n",
              "1997  1846694359  4.5 earthquake, eastern Honshu, Japan. 2018-05...\n",
              "1998  1846692571  Magnitude 5.8 earthquake 80km N of Visokoi Isl...\n",
              "1999  1846692499  So the earthquake seized them and they lay (de...\n",
              "\n",
              "[2000 rows x 2 columns]"
            ],
            "text/html": [
              "\n",
              "  <div id=\"df-c2f4a773-8084-4718-87f0-512e400755b8\">\n",
              "    <div class=\"colab-df-container\">\n",
              "      <div>\n",
              "<style scoped>\n",
              "    .dataframe tbody tr th:only-of-type {\n",
              "        vertical-align: middle;\n",
              "    }\n",
              "\n",
              "    .dataframe tbody tr th {\n",
              "        vertical-align: top;\n",
              "    }\n",
              "\n",
              "    .dataframe thead th {\n",
              "        text-align: right;\n",
              "    }\n",
              "</style>\n",
              "<table border=\"1\" class=\"dataframe\">\n",
              "  <thead>\n",
              "    <tr style=\"text-align: right;\">\n",
              "      <th></th>\n",
              "      <th>_unit_id</th>\n",
              "      <th>Tweets</th>\n",
              "    </tr>\n",
              "  </thead>\n",
              "  <tbody>\n",
              "    <tr>\n",
              "      <th>0</th>\n",
              "      <td>1846692712</td>\n",
              "      <td>TheReformedCrow Nah, I'm gonna go with earthq...</td>\n",
              "    </tr>\n",
              "    <tr>\n",
              "      <th>1</th>\n",
              "      <td>1846692769</td>\n",
              "      <td>I think we just had an earthquake</td>\n",
              "    </tr>\n",
              "    <tr>\n",
              "      <th>2</th>\n",
              "      <td>1846692882</td>\n",
              "      <td>Uhh who else felt that earthquake tho</td>\n",
              "    </tr>\n",
              "    <tr>\n",
              "      <th>3</th>\n",
              "      <td>1846694004</td>\n",
              "      <td>Bay area just had a nice size earthquake</td>\n",
              "    </tr>\n",
              "    <tr>\n",
              "      <th>4</th>\n",
              "      <td>1846693321</td>\n",
              "      <td>Thought my dad was farting...turns out it was ...</td>\n",
              "    </tr>\n",
              "    <tr>\n",
              "      <th>...</th>\n",
              "      <td>...</td>\n",
              "      <td>...</td>\n",
              "    </tr>\n",
              "    <tr>\n",
              "      <th>1995</th>\n",
              "      <td>1846692449</td>\n",
              "      <td>5/13/18 10pm earthquake update dutchsinse http...</td>\n",
              "    </tr>\n",
              "    <tr>\n",
              "      <th>1996</th>\n",
              "      <td>1846692498</td>\n",
              "      <td>M5.1 #earthquake (#sГ©isme) strikes 59 km E of...</td>\n",
              "    </tr>\n",
              "    <tr>\n",
              "      <th>1997</th>\n",
              "      <td>1846694359</td>\n",
              "      <td>4.5 earthquake, eastern Honshu, Japan. 2018-05...</td>\n",
              "    </tr>\n",
              "    <tr>\n",
              "      <th>1998</th>\n",
              "      <td>1846692571</td>\n",
              "      <td>Magnitude 5.8 earthquake 80km N of Visokoi Isl...</td>\n",
              "    </tr>\n",
              "    <tr>\n",
              "      <th>1999</th>\n",
              "      <td>1846692499</td>\n",
              "      <td>So the earthquake seized them and they lay (de...</td>\n",
              "    </tr>\n",
              "  </tbody>\n",
              "</table>\n",
              "<p>2000 rows × 2 columns</p>\n",
              "</div>\n",
              "      <button class=\"colab-df-convert\" onclick=\"convertToInteractive('df-c2f4a773-8084-4718-87f0-512e400755b8')\"\n",
              "              title=\"Convert this dataframe to an interactive table.\"\n",
              "              style=\"display:none;\">\n",
              "        \n",
              "  <svg xmlns=\"http://www.w3.org/2000/svg\" height=\"24px\"viewBox=\"0 0 24 24\"\n",
              "       width=\"24px\">\n",
              "    <path d=\"M0 0h24v24H0V0z\" fill=\"none\"/>\n",
              "    <path d=\"M18.56 5.44l.94 2.06.94-2.06 2.06-.94-2.06-.94-.94-2.06-.94 2.06-2.06.94zm-11 1L8.5 8.5l.94-2.06 2.06-.94-2.06-.94L8.5 2.5l-.94 2.06-2.06.94zm10 10l.94 2.06.94-2.06 2.06-.94-2.06-.94-.94-2.06-.94 2.06-2.06.94z\"/><path d=\"M17.41 7.96l-1.37-1.37c-.4-.4-.92-.59-1.43-.59-.52 0-1.04.2-1.43.59L10.3 9.45l-7.72 7.72c-.78.78-.78 2.05 0 2.83L4 21.41c.39.39.9.59 1.41.59.51 0 1.02-.2 1.41-.59l7.78-7.78 2.81-2.81c.8-.78.8-2.07 0-2.86zM5.41 20L4 18.59l7.72-7.72 1.47 1.35L5.41 20z\"/>\n",
              "  </svg>\n",
              "      </button>\n",
              "      \n",
              "  <style>\n",
              "    .colab-df-container {\n",
              "      display:flex;\n",
              "      flex-wrap:wrap;\n",
              "      gap: 12px;\n",
              "    }\n",
              "\n",
              "    .colab-df-convert {\n",
              "      background-color: #E8F0FE;\n",
              "      border: none;\n",
              "      border-radius: 50%;\n",
              "      cursor: pointer;\n",
              "      display: none;\n",
              "      fill: #1967D2;\n",
              "      height: 32px;\n",
              "      padding: 0 0 0 0;\n",
              "      width: 32px;\n",
              "    }\n",
              "\n",
              "    .colab-df-convert:hover {\n",
              "      background-color: #E2EBFA;\n",
              "      box-shadow: 0px 1px 2px rgba(60, 64, 67, 0.3), 0px 1px 3px 1px rgba(60, 64, 67, 0.15);\n",
              "      fill: #174EA6;\n",
              "    }\n",
              "\n",
              "    [theme=dark] .colab-df-convert {\n",
              "      background-color: #3B4455;\n",
              "      fill: #D2E3FC;\n",
              "    }\n",
              "\n",
              "    [theme=dark] .colab-df-convert:hover {\n",
              "      background-color: #434B5C;\n",
              "      box-shadow: 0px 1px 3px 1px rgba(0, 0, 0, 0.15);\n",
              "      filter: drop-shadow(0px 1px 2px rgba(0, 0, 0, 0.3));\n",
              "      fill: #FFFFFF;\n",
              "    }\n",
              "  </style>\n",
              "\n",
              "      <script>\n",
              "        const buttonEl =\n",
              "          document.querySelector('#df-c2f4a773-8084-4718-87f0-512e400755b8 button.colab-df-convert');\n",
              "        buttonEl.style.display =\n",
              "          google.colab.kernel.accessAllowed ? 'block' : 'none';\n",
              "\n",
              "        async function convertToInteractive(key) {\n",
              "          const element = document.querySelector('#df-c2f4a773-8084-4718-87f0-512e400755b8');\n",
              "          const dataTable =\n",
              "            await google.colab.kernel.invokeFunction('convertToInteractive',\n",
              "                                                     [key], {});\n",
              "          if (!dataTable) return;\n",
              "\n",
              "          const docLinkHtml = 'Like what you see? Visit the ' +\n",
              "            '<a target=\"_blank\" href=https://colab.research.google.com/notebooks/data_table.ipynb>data table notebook</a>'\n",
              "            + ' to learn more about interactive tables.';\n",
              "          element.innerHTML = '';\n",
              "          dataTable['output_type'] = 'display_data';\n",
              "          await google.colab.output.renderOutput(dataTable, element);\n",
              "          const docLink = document.createElement('div');\n",
              "          docLink.innerHTML = docLinkHtml;\n",
              "          element.appendChild(docLink);\n",
              "        }\n",
              "      </script>\n",
              "    </div>\n",
              "  </div>\n",
              "  "
            ]
          },
          "metadata": {},
          "execution_count": 5
        }
      ]
    },
    {
      "cell_type": "code",
      "source": [
        "# Make sure you run this one before other methods!\n",
        "\n",
        "def to_lowercase(text):\n",
        "    return text.lower()\n",
        "\n",
        "#testing the function on a single sample for explaination\n",
        "print(to_lowercase('IN CHINESE WE CALL CAPITALIZATION AS BIG WRITTING, IN GERMAN AS WELL.'))\n",
        "\n",
        "#converting every row of the column into lower case \n",
        "tweets_df.Tweets=tweets_df.Tweets.apply(to_lowercase)"
      ],
      "metadata": {
        "colab": {
          "base_uri": "https://localhost:8080/"
        },
        "id": "A5zx1-ziKaOr",
        "outputId": "221f1bfe-8016-4db3-97a1-396f3e61a1d9"
      },
      "execution_count": 6,
      "outputs": [
        {
          "output_type": "stream",
          "name": "stdout",
          "text": [
            "in chinese we call capitalization as big writting, in german as well.\n"
          ]
        }
      ]
    },
    {
      "cell_type": "code",
      "source": [
        "def standardize_accented_chars(text):\n",
        "    return unicodedata.normalize('NFKD', text).encode('ascii', 'ignore').decode('utf-8', 'ignore')\n",
        "\n",
        "#testing the function on a single sample for explaination\n",
        "print(standardize_accented_chars('sómě words such as résumé, café, prótest, divorcé, coördinate, exposé, latté.'))\n",
        "#standardizing accented characters for every row\n",
        "tweets_df.Tweets=tweets_df.Tweets.apply(standardize_accented_chars)"
      ],
      "metadata": {
        "colab": {
          "base_uri": "https://localhost:8080/"
        },
        "id": "5xlNQd_1KpBt",
        "outputId": "2b7b91f2-4a3a-4a88-c5bb-99bdd4b1e60c"
      },
      "execution_count": 7,
      "outputs": [
        {
          "output_type": "stream",
          "name": "stdout",
          "text": [
            "some words such as resume, cafe, protest, divorce, coordinate, expose, latte.\n"
          ]
        }
      ]
    },
    {
      "cell_type": "code",
      "source": [
        "# Not a method, just to check how many tweets contain urls\n",
        "\n",
        "def get_number_of_urls(documents):\n",
        "    print(\"{:.2f}% of documents contain urls\".format(sum\n",
        "(documents.apply(lambda x:x.find('http'))>0)/len\n",
        "(documents)*100))\n",
        "\n",
        "# Passing the 'Tweets' column of the dataframe as the argument\n",
        "print(get_number_of_urls(tweets_df.Tweets)) "
      ],
      "metadata": {
        "colab": {
          "base_uri": "https://localhost:8080/"
        },
        "id": "dVS7GjcyLHgs",
        "outputId": "ece3e086-4a65-43b9-c0bd-02286601cd2b"
      },
      "execution_count": 8,
      "outputs": [
        {
          "output_type": "stream",
          "name": "stdout",
          "text": [
            "14.20% of documents contain urls\n",
            "None\n"
          ]
        }
      ]
    },
    {
      "cell_type": "code",
      "source": [
        "def remove_url(text):\n",
        "    return re.sub(r'https?:\\S*', '', text)\n",
        "\n",
        "#testing the function on a single sample for explaination\n",
        "print(remove_url('using https://www.google.com/ as an example'))\n",
        "\n",
        "#removing urls from every row\n",
        "tweets_df.Tweets=tweets_df.Tweets.apply(remove_url)"
      ],
      "metadata": {
        "colab": {
          "base_uri": "https://localhost:8080/"
        },
        "id": "33ddKgIyLQQ-",
        "outputId": "ccb0b6bb-4eca-43dd-d6cd-48771bb11ce8"
      },
      "execution_count": 9,
      "outputs": [
        {
          "output_type": "stream",
          "name": "stdout",
          "text": [
            "using  as an example\n"
          ]
        }
      ]
    },
    {
      "cell_type": "code",
      "source": [
        "def expand_contractions(text):\n",
        "    expanded_words = [] \n",
        "    for word in text.split():\n",
        "       expanded_words.append(contractions.fix(word)) \n",
        "    return ' '.join(expanded_words)\n",
        "\n",
        "#testing the function on a single sample for explaination\n",
        "print(expand_contractions(\"Don't is the same as do not\"))\n",
        "\n",
        "#expanding contractions for every row\n",
        "tweets_df.Tweets=tweets_df.Tweets.apply(expand_contractions)"
      ],
      "metadata": {
        "colab": {
          "base_uri": "https://localhost:8080/"
        },
        "id": "CsYJrzPrLRvB",
        "outputId": "e1eee46f-bb48-46a3-c3a9-fe47f94be464"
      },
      "execution_count": 10,
      "outputs": [
        {
          "output_type": "stream",
          "name": "stdout",
          "text": [
            "Do not is the same as do not\n"
          ]
        }
      ]
    },
    {
      "cell_type": "code",
      "source": [
        "def remove_mentions_and_tags(text):\n",
        "    text = re.sub(r'@\\S*', '', text)\n",
        "    return re.sub(r'#\\S*', '', text)\n",
        "\n",
        "#testing the function on a single sample for explaination\n",
        "print(remove_mentions_and_tags('Some random @abc and #def'))\n",
        "\n",
        "#removing mentions and tags from every row\n",
        "tweets_df.Tweets=tweets_df.Tweets.apply(remove_mentions_and_tags)"
      ],
      "metadata": {
        "colab": {
          "base_uri": "https://localhost:8080/"
        },
        "id": "RKj1c-5XLToX",
        "outputId": "58f1968a-8291-4b7a-9b8a-8ad2480a2b3f"
      },
      "execution_count": 11,
      "outputs": [
        {
          "output_type": "stream",
          "name": "stdout",
          "text": [
            "Some random  and \n"
          ]
        }
      ]
    },
    {
      "cell_type": "code",
      "source": [
        "def keep_only_alphabet(text):\n",
        "    return re.sub(r'[^a-zA-Z]', ' ', text)\n",
        "\n",
        "#testing the function on a single sample for explaination\n",
        "print(keep_only_alphabet('Just a bit more $$processing required.Just a bit!!!'))\n",
        "\n",
        "#for all the rows\n",
        "tweets_df.Tweets=tweets_df.Tweets.apply(keep_only_alphabet)"
      ],
      "metadata": {
        "colab": {
          "base_uri": "https://localhost:8080/"
        },
        "id": "BOMR2Ox9LVLe",
        "outputId": "7b577e50-6a94-4ae5-e763-0a28d6de0046"
      },
      "execution_count": 12,
      "outputs": [
        {
          "output_type": "stream",
          "name": "stdout",
          "text": [
            "Just a bit more   processing required Just a bit   \n"
          ]
        }
      ]
    },
    {
      "cell_type": "code",
      "source": [
        "def remove_stop_words(text):\n",
        "  \"\"\"\n",
        "  Returns text without stop words\n",
        "  \"\"\"\n",
        "  text = word_tokenize(text)\n",
        "  word_list = []\n",
        "  for word in text:\n",
        "      if word not in stopwords.words('english'):\n",
        "          word_list.append(word)\n",
        "\n",
        "  return ' '.join(word_list)\n",
        "\n",
        "\n",
        "#testing the function on a single sample for explaination\n",
        "print(remove_stop_words('Test this text to see which are stop words.'))\n",
        "\n",
        "#removing stop-words and short words from every row\n",
        "tweets_df.Tweets=tweets_df.Tweets.apply(remove_stop_words)"
      ],
      "metadata": {
        "colab": {
          "base_uri": "https://localhost:8080/"
        },
        "id": "TkauxJKhLWsl",
        "outputId": "4da0f03e-237a-467d-9d53-9d6a19b56a82"
      },
      "execution_count": 13,
      "outputs": [
        {
          "output_type": "stream",
          "name": "stdout",
          "text": [
            "Test text see stop words .\n"
          ]
        }
      ]
    },
    {
      "cell_type": "code",
      "source": [
        "def lemmatize(text):\n",
        "  lemmatizer = WordNetLemmatizer()\n",
        "  text_str = word_tokenize(text)\n",
        "  new_words = []\n",
        "\n",
        "  for word in text_str:\n",
        "    new_words.append(lemmatizer.lemmatize(word))\n",
        "  return ' '.join(new_words)\n",
        "\n",
        "#testing the function on a single sample for explaination\n",
        "print(lemmatize('apples, bananas and pears are common fruits that are eaten by humans.'))\n",
        "\n",
        "#Performing lemmatization on every row\n",
        "tweets_df.Tweets=tweets_df.Tweets.apply(lemmatize)"
      ],
      "metadata": {
        "colab": {
          "base_uri": "https://localhost:8080/"
        },
        "id": "dU6WamoPLYpD",
        "outputId": "3a076399-e1c3-422c-84df-11b154d722af"
      },
      "execution_count": 14,
      "outputs": [
        {
          "output_type": "stream",
          "name": "stdout",
          "text": [
            "apple , banana and pear are common fruit that are eaten by human .\n"
          ]
        }
      ]
    },
    {
      "cell_type": "code",
      "source": [
        "# Check this one after running\n",
        "tweets_df"
      ],
      "metadata": {
        "colab": {
          "base_uri": "https://localhost:8080/",
          "height": 424
        },
        "id": "4jlJgpxhMWQi",
        "outputId": "dec2c2ac-8016-436f-8f65-76587ea84f75"
      },
      "execution_count": 15,
      "outputs": [
        {
          "output_type": "execute_result",
          "data": {
            "text/plain": [
              "        _unit_id                                             Tweets\n",
              "0     1846692712            thereformedcrow nah going go earthquake\n",
              "1     1846692769                                   think earthquake\n",
              "2     1846692882                    uhh else felt earthquake though\n",
              "3     1846694004                      bay area nice size earthquake\n",
              "4     1846693321                thought dad farting turn earthquake\n",
              "...          ...                                                ...\n",
              "1995  1846692449        pm earthquake update dutchsinse via youtube\n",
              "1996  1846692498     strike km e min ago effect reported eyewitness\n",
              "1997  1846694359  earthquake eastern honshu japan utc epicenter ...\n",
              "1998  1846692571  magnitude earthquake km n visokoi island south...\n",
              "1999  1846692499          earthquake seized lay dead prostrate home\n",
              "\n",
              "[2000 rows x 2 columns]"
            ],
            "text/html": [
              "\n",
              "  <div id=\"df-cbc72e65-aa8a-4644-9a37-24d92f958ff8\">\n",
              "    <div class=\"colab-df-container\">\n",
              "      <div>\n",
              "<style scoped>\n",
              "    .dataframe tbody tr th:only-of-type {\n",
              "        vertical-align: middle;\n",
              "    }\n",
              "\n",
              "    .dataframe tbody tr th {\n",
              "        vertical-align: top;\n",
              "    }\n",
              "\n",
              "    .dataframe thead th {\n",
              "        text-align: right;\n",
              "    }\n",
              "</style>\n",
              "<table border=\"1\" class=\"dataframe\">\n",
              "  <thead>\n",
              "    <tr style=\"text-align: right;\">\n",
              "      <th></th>\n",
              "      <th>_unit_id</th>\n",
              "      <th>Tweets</th>\n",
              "    </tr>\n",
              "  </thead>\n",
              "  <tbody>\n",
              "    <tr>\n",
              "      <th>0</th>\n",
              "      <td>1846692712</td>\n",
              "      <td>thereformedcrow nah going go earthquake</td>\n",
              "    </tr>\n",
              "    <tr>\n",
              "      <th>1</th>\n",
              "      <td>1846692769</td>\n",
              "      <td>think earthquake</td>\n",
              "    </tr>\n",
              "    <tr>\n",
              "      <th>2</th>\n",
              "      <td>1846692882</td>\n",
              "      <td>uhh else felt earthquake though</td>\n",
              "    </tr>\n",
              "    <tr>\n",
              "      <th>3</th>\n",
              "      <td>1846694004</td>\n",
              "      <td>bay area nice size earthquake</td>\n",
              "    </tr>\n",
              "    <tr>\n",
              "      <th>4</th>\n",
              "      <td>1846693321</td>\n",
              "      <td>thought dad farting turn earthquake</td>\n",
              "    </tr>\n",
              "    <tr>\n",
              "      <th>...</th>\n",
              "      <td>...</td>\n",
              "      <td>...</td>\n",
              "    </tr>\n",
              "    <tr>\n",
              "      <th>1995</th>\n",
              "      <td>1846692449</td>\n",
              "      <td>pm earthquake update dutchsinse via youtube</td>\n",
              "    </tr>\n",
              "    <tr>\n",
              "      <th>1996</th>\n",
              "      <td>1846692498</td>\n",
              "      <td>strike km e min ago effect reported eyewitness</td>\n",
              "    </tr>\n",
              "    <tr>\n",
              "      <th>1997</th>\n",
              "      <td>1846694359</td>\n",
              "      <td>earthquake eastern honshu japan utc epicenter ...</td>\n",
              "    </tr>\n",
              "    <tr>\n",
              "      <th>1998</th>\n",
              "      <td>1846692571</td>\n",
              "      <td>magnitude earthquake km n visokoi island south...</td>\n",
              "    </tr>\n",
              "    <tr>\n",
              "      <th>1999</th>\n",
              "      <td>1846692499</td>\n",
              "      <td>earthquake seized lay dead prostrate home</td>\n",
              "    </tr>\n",
              "  </tbody>\n",
              "</table>\n",
              "<p>2000 rows × 2 columns</p>\n",
              "</div>\n",
              "      <button class=\"colab-df-convert\" onclick=\"convertToInteractive('df-cbc72e65-aa8a-4644-9a37-24d92f958ff8')\"\n",
              "              title=\"Convert this dataframe to an interactive table.\"\n",
              "              style=\"display:none;\">\n",
              "        \n",
              "  <svg xmlns=\"http://www.w3.org/2000/svg\" height=\"24px\"viewBox=\"0 0 24 24\"\n",
              "       width=\"24px\">\n",
              "    <path d=\"M0 0h24v24H0V0z\" fill=\"none\"/>\n",
              "    <path d=\"M18.56 5.44l.94 2.06.94-2.06 2.06-.94-2.06-.94-.94-2.06-.94 2.06-2.06.94zm-11 1L8.5 8.5l.94-2.06 2.06-.94-2.06-.94L8.5 2.5l-.94 2.06-2.06.94zm10 10l.94 2.06.94-2.06 2.06-.94-2.06-.94-.94-2.06-.94 2.06-2.06.94z\"/><path d=\"M17.41 7.96l-1.37-1.37c-.4-.4-.92-.59-1.43-.59-.52 0-1.04.2-1.43.59L10.3 9.45l-7.72 7.72c-.78.78-.78 2.05 0 2.83L4 21.41c.39.39.9.59 1.41.59.51 0 1.02-.2 1.41-.59l7.78-7.78 2.81-2.81c.8-.78.8-2.07 0-2.86zM5.41 20L4 18.59l7.72-7.72 1.47 1.35L5.41 20z\"/>\n",
              "  </svg>\n",
              "      </button>\n",
              "      \n",
              "  <style>\n",
              "    .colab-df-container {\n",
              "      display:flex;\n",
              "      flex-wrap:wrap;\n",
              "      gap: 12px;\n",
              "    }\n",
              "\n",
              "    .colab-df-convert {\n",
              "      background-color: #E8F0FE;\n",
              "      border: none;\n",
              "      border-radius: 50%;\n",
              "      cursor: pointer;\n",
              "      display: none;\n",
              "      fill: #1967D2;\n",
              "      height: 32px;\n",
              "      padding: 0 0 0 0;\n",
              "      width: 32px;\n",
              "    }\n",
              "\n",
              "    .colab-df-convert:hover {\n",
              "      background-color: #E2EBFA;\n",
              "      box-shadow: 0px 1px 2px rgba(60, 64, 67, 0.3), 0px 1px 3px 1px rgba(60, 64, 67, 0.15);\n",
              "      fill: #174EA6;\n",
              "    }\n",
              "\n",
              "    [theme=dark] .colab-df-convert {\n",
              "      background-color: #3B4455;\n",
              "      fill: #D2E3FC;\n",
              "    }\n",
              "\n",
              "    [theme=dark] .colab-df-convert:hover {\n",
              "      background-color: #434B5C;\n",
              "      box-shadow: 0px 1px 3px 1px rgba(0, 0, 0, 0.15);\n",
              "      filter: drop-shadow(0px 1px 2px rgba(0, 0, 0, 0.3));\n",
              "      fill: #FFFFFF;\n",
              "    }\n",
              "  </style>\n",
              "\n",
              "      <script>\n",
              "        const buttonEl =\n",
              "          document.querySelector('#df-cbc72e65-aa8a-4644-9a37-24d92f958ff8 button.colab-df-convert');\n",
              "        buttonEl.style.display =\n",
              "          google.colab.kernel.accessAllowed ? 'block' : 'none';\n",
              "\n",
              "        async function convertToInteractive(key) {\n",
              "          const element = document.querySelector('#df-cbc72e65-aa8a-4644-9a37-24d92f958ff8');\n",
              "          const dataTable =\n",
              "            await google.colab.kernel.invokeFunction('convertToInteractive',\n",
              "                                                     [key], {});\n",
              "          if (!dataTable) return;\n",
              "\n",
              "          const docLinkHtml = 'Like what you see? Visit the ' +\n",
              "            '<a target=\"_blank\" href=https://colab.research.google.com/notebooks/data_table.ipynb>data table notebook</a>'\n",
              "            + ' to learn more about interactive tables.';\n",
              "          element.innerHTML = '';\n",
              "          dataTable['output_type'] = 'display_data';\n",
              "          await google.colab.output.renderOutput(dataTable, element);\n",
              "          const docLink = document.createElement('div');\n",
              "          docLink.innerHTML = docLinkHtml;\n",
              "          element.appendChild(docLink);\n",
              "        }\n",
              "      </script>\n",
              "    </div>\n",
              "  </div>\n",
              "  "
            ]
          },
          "metadata": {},
          "execution_count": 15
        }
      ]
    }
  ]
}