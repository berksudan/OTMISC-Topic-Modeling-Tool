{
 "cells": [
  {
   "cell_type": "markdown",
   "id": "9a570f6d",
   "metadata": {},
   "source": [
    "## 0. Code Setup and Helper Functions"
   ]
  },
  {
   "cell_type": "markdown",
   "id": "61510b1e",
   "metadata": {},
   "source": [
    "### 0.1 Path Adjustments"
   ]
  },
  {
   "cell_type": "code",
   "execution_count": 1,
   "id": "80cf0947",
   "metadata": {},
   "outputs": [
    {
     "name": "stdout",
     "output_type": "stream",
     "text": [
      "[INFO] Current Directory: \"/home/iceking/Desktop/22SS-TUM Lecture Docs/3. Praktikum (IN2106, IN4249)/Repo/topic-modeling-advancements\".\n"
     ]
    }
   ],
   "source": [
    "import os\n",
    "import sys\n",
    "assert os.path.exists('../src'), f\"[ERROR] The path src not detected in the parent directory '{os.getcwd()}'.\"\n",
    "\n",
    "if os.getcwd().endswith('/notebooks'):\n",
    "    os.chdir('..')\n",
    "    sys.path.append('./src')\n",
    "\n",
    "print(f'[INFO] Current Directory: \"{os.getcwd()}\".')"
   ]
  },
  {
   "cell_type": "markdown",
   "id": "6a64ffab",
   "metadata": {},
   "source": [
    "### 0.2 Import all necessary packages"
   ]
  },
  {
   "cell_type": "code",
   "execution_count": 4,
   "id": "3994b950",
   "metadata": {},
   "outputs": [
    {
     "name": "stdout",
     "output_type": "stream",
     "text": [
      "The autoreload extension is already loaded. To reload it, use:\n",
      "  %reload_ext autoreload\n"
     ]
    }
   ],
   "source": [
    "%load_ext autoreload\n",
    "%autoreload 2\n",
    "\n",
    "import pandas as pd\n",
    "from time import time\n",
    "import shutil\n",
    "from src import preprocessor\n",
    "from src.utils import load_documents\n",
    "from src.main_runner import OUTPUT_FOLDER\n",
    "from src.main_runner import main_runner"
   ]
  },
  {
   "cell_type": "markdown",
   "id": "5bde40cd",
   "metadata": {},
   "source": [
    "## 1. Run Main Runner with Example Configs"
   ]
  },
  {
   "cell_type": "code",
   "execution_count": 5,
   "id": "d04f4f90",
   "metadata": {},
   "outputs": [],
   "source": [
    "if os.path.exists(OUTPUT_FOLDER):\n",
    "    shutil.rmtree(OUTPUT_FOLDER)"
   ]
  },
  {
   "cell_type": "code",
   "execution_count": 12,
   "id": "0ddbd1e3",
   "metadata": {},
   "outputs": [],
   "source": [
    "example_configs = [\n",
    "    {\n",
    "        \"algorithm_args\": {\n",
    "            \"embedding_model\": \"doc2vec\",\n",
    "            \"min_count\": 30,\n",
    "            \"algorithm\": \"top2vec\",\n",
    "            \"num_topics\": 4,\n",
    "            \"doc2vec_speed\": \"learn\",\n",
    "            \"umap_args\": {\n",
    "                \"n_neighbors\": 15,\n",
    "                \"n_components\": 5,\n",
    "                \"metric\": \"cosine\",\n",
    "                \"random_state\": 42\n",
    "            },\n",
    "            \"hdbscan_args\": {\n",
    "                \"min_cluster_size\": 10,\n",
    "                \"metric\": \"euclidean\",\n",
    "                \"cluster_selection_method\": \"eom\"\n",
    "            }\n",
    "        },\n",
    "        \"preprocessing_funcs\": [],\n",
    "        \"dataset\": \"crisis_12\"\n",
    "    },\n",
    "    {\n",
    "        \"algorithm_args\": {\n",
    "            \"algorithm\": \"lda-bert\",\n",
    "            \"embedding_model\": \"all-MiniLM-L12-v2\",\n",
    "            \"top_n_words\": 10,\n",
    "            \"gamma\": 10,\n",
    "            \"num_topics\": 4,\n",
    "            \"random_state\": 42\n",
    "        },\n",
    "        \"preprocessing_funcs\": [\n",
    "            \"to_lowercase\",\n",
    "            \"standardize_accented_chars\",\n",
    "            \"remove_url\",\n",
    "            \"expand_contractions\",\n",
    "            \"remove_mentions\",\n",
    "            \"remove_hashtags\",\n",
    "            \"keep_only_alphabet\",\n",
    "            \"remove_english_stop_words\",\n",
    "            \"lemmatize_noun\"\n",
    "        ],\n",
    "        \"dataset\": \"crisis_01\"\n",
    "    },\n",
    "    {\n",
    "        \"algorithm_args\": {\n",
    "            \"embedding_model\": \"paraphrase-multilingual-MiniLM-L12-v2\",\n",
    "            \"num_epochs\": 100,\n",
    "            \"batch_size\": 64,\n",
    "            \"algorithm\": \"ctm\",\n",
    "            \"num_topics\": 4,\n",
    "            \"random_state\": 42,\n",
    "            \"learning_rate\": 0.002\n",
    "        },\n",
    "        \"preprocessing_funcs\": [],\n",
    "        \"dataset\": \"crisis_12\"\n",
    "    },\n",
    "    {\n",
    "        \"dataset\": \"ag_news_short\",\n",
    "        \"preprocessing_funcs\": [\n",
    "            \"to_lowercase\",\n",
    "            \"standardize_accented_chars\",\n",
    "            \"remove_url\",\n",
    "            \"expand_contractions\",\n",
    "            \"expand_missing_delimiter\",\n",
    "            \"remove_mentions\",\n",
    "            \"remove_hashtags\",\n",
    "            \"remove_new_lines\",\n",
    "            \"keep_only_alphabet\",\n",
    "            \"remove_english_stop_words\",\n",
    "            \"lemmatize_noun\"\n",
    "        ],\n",
    "        \"algorithm_args\": {\n",
    "            \"algorithm\": \"lda\",\n",
    "            \"num_topics\": 4,\n",
    "            \"random_state\": 42,\n",
    "            \"alpha\": \"asymmetric\"\n",
    "        }\n",
    "    },\n",
    "    {\n",
    "        \"dataset\": \"ag_news_long\",\n",
    "        \"preprocessing_funcs\": [\n",
    "            \"to_lowercase\",\n",
    "            \"standardize_accented_chars\",\n",
    "            \"remove_url\",\n",
    "            \"expand_contractions\",\n",
    "            \"expand_missing_delimiter\",\n",
    "            \"remove_mentions\",\n",
    "            \"remove_hashtags\",\n",
    "            \"remove_new_lines\",\n",
    "            \"keep_only_alphabet\",\n",
    "            \"remove_english_stop_words\",\n",
    "            \"lemmatize_noun\"\n",
    "        ],\n",
    "        \n",
    "        \"algorithm_args\": {\n",
    "            \"algorithm\": \"nmf\",\n",
    "            \"num_topics\": 4,\n",
    "            \"random_state\": 42,\n",
    "        }\n",
    "    },\n",
    "    {\n",
    "        \"algorithm_args\": {\n",
    "            \"embedding_model\": \"all-mpnet-base-v2\",\n",
    "            \"top_n_words\": 10,\n",
    "            \"algorithm\": \"bertopic\",\n",
    "            \"n_gram_range_tuple\": (1, 1),\n",
    "            \"min_docs_per_topic\": 15,\n",
    "            \"num_topics\": 10,\n",
    "            \"cluster_model\": \"hdbscan\",\n",
    "            \"hdbscan_args\": {\n",
    "                \"min_cluster_size\": 10,\n",
    "                \"metric\": \"euclidean\",\n",
    "                \"cluster_selection_method\": \"eom\",\n",
    "                \"prediction_data\": True\n",
    "            },\n",
    "            \"umap_args\": {\n",
    "                \"n_neighbors\": 15,\n",
    "                \"n_components\": 5,\n",
    "                \"min_dist\": 0.0,\n",
    "                \"metric\": \"cosine\",\n",
    "                \"low_memory\": False,\n",
    "                \"random_state\": 42\n",
    "            }\n",
    "        },\n",
    "        \"preprocessing_funcs\": [],\n",
    "        \"dataset\": \"yahoo\"\n",
    "    },\n",
    "]\n"
   ]
  },
  {
   "cell_type": "code",
   "execution_count": null,
   "id": "d46dee15",
   "metadata": {},
   "outputs": [
    {
     "name": "stderr",
     "output_type": "stream",
     "text": [
      "2022-08-26 14:02:54,579 - top2vec - INFO - Pre-processing documents for training\n",
      "2022-08-26 14:02:54,579 INFO:Pre-processing documents for training\n"
     ]
    },
    {
     "name": "stdout",
     "output_type": "stream",
     "text": [
      "[INFO] [MAIN RUNNER] Example Config #0 is running..\n",
      "[WARN] [PREPROCESSOR] Preprocessing functions are empty or None, given:\"[]\", preprocessing is skipped.\n",
      "[INFO] Running with 4 topics.\n",
      "[INFO] Top2Vec Parameters:\n",
      "{\n",
      "    \"embedding_model\": \"doc2vec\",\n",
      "    \"min_count\": 30,\n",
      "    \"algorithm\": \"top2vec\",\n",
      "    \"num_topics\": 4,\n",
      "    \"doc2vec_speed\": \"learn\",\n",
      "    \"umap_args\": {\n",
      "        \"n_neighbors\": 15,\n",
      "        \"n_components\": 5,\n",
      "        \"metric\": \"cosine\",\n",
      "        \"random_state\": 42\n",
      "    },\n",
      "    \"hdbscan_args\": {\n",
      "        \"min_cluster_size\": 10,\n",
      "        \"metric\": \"euclidean\",\n",
      "        \"cluster_selection_method\": \"eom\"\n",
      "    },\n",
      "    \"data_name\": \"crisis_12\",\n",
      "    \"run_id\": 1661515374\n",
      "}\n",
      "[INFO] The embedding model folder:\"./pretrained_models/sentence-transformers_distiluse-base-multilingual-cased\" found, so no need to download.\n",
      "[INFO] The embedding model folder:\"./pretrained_models/sentence-transformers_all-MiniLM-L6-v2\" found, so no need to download.\n",
      "[INFO] The embedding model folder:\"./pretrained_models/sentence-transformers_paraphrase-multilingual-MiniLM-L12-v2\" found, so no need to download.\n",
      "[INFO] The embedding model folder:\"./pretrained_models/universal-sentence-encoder\" found, so no need to download.\n",
      "[INFO] The embedding model folder:\"./pretrained_models/universal-sentence-encoder-multilingual\" found, so no need to download.\n",
      "[INFO] The embedding model folder:\"./pretrained_models/universal-sentence-encoder-large\" found, so no need to download.\n",
      "[INFO] The embedding model folder:\"./pretrained_models/universal-sentence-encoder-multilingual-large\" found, so no need to download.\n",
      "[INFO] Top2Vec with name:\"top2vec\" is running for dataset:\"crisis_12\".\n"
     ]
    },
    {
     "name": "stderr",
     "output_type": "stream",
     "text": [
      "2022-08-26 14:02:54,786 - top2vec - INFO - Creating joint document/word embedding\n",
      "2022-08-26 14:02:54,786 INFO:Creating joint document/word embedding\n",
      "2022-08-26 14:03:13,196 - top2vec - INFO - Creating lower dimension embedding of documents\n",
      "2022-08-26 14:03:13,196 INFO:Creating lower dimension embedding of documents\n",
      "2022-08-26 14:03:29,158 - top2vec - INFO - Finding dense areas of documents\n",
      "2022-08-26 14:03:29,158 INFO:Finding dense areas of documents\n",
      "2022-08-26 14:03:29,320 - top2vec - INFO - Finding topics\n",
      "2022-08-26 14:03:29,320 INFO:Finding topics\n"
     ]
    },
    {
     "name": "stdout",
     "output_type": "stream",
     "text": [
      "[INFO] Original (Non-reduced) Number of Topics: 2.\n",
      "[WARN] # of topics is pre-specified but non_reduced_num_topics <= num_topics, so not reduced!\n",
      "   > non_reduced_num_topics:2, given num_topics:4!\n",
      "[INFO] Topic #00:\n",
      "     > From Reduced Model:False.\n",
      "     > Topic Size:7199.\n",
      "     > Topic Words: ['hoping' 'damn' 'mass' 'crazy' 'abc' 'tweets' 'thing' 'zone' 'let' 'wow'\n",
      "\t\t 'something' 'car' 'pretty' 'without' 'he' 'these' 'francisco' 'oakland'\n",
      "\t\t 'tweet' 'forces' 'lmao' 'closed' 'house' 'going' 'anyone' 'there' 'make'\n",
      "\t\t 'im' 'second' 'then' 'every' 'gt' 'whole' 'had' 'your' 'off' 'twitter'\n",
      "\t\t 'okay' 'trying' 'now' 'due' 'trippin' 'fuck' 'into' 'little' 'just'\n",
      "\t\t 'change' 'so' 'should' 'ass']\n",
      "     > Topic Word Scores: [0.9794671  0.9759551  0.97558117 0.97059864 0.969261   0.96847427\n",
      "\t\t 0.9670983  0.96033615 0.9595072  0.9581351  0.9568556  0.95136064\n",
      "\t\t 0.94945693 0.9489452  0.9441134  0.9434247  0.94135416 0.94085383\n",
      "\t\t 0.93793714 0.9349394  0.9348033  0.9347808  0.9292307  0.9271242\n",
      "\t\t 0.92643625 0.9232751  0.92302746 0.9227132  0.9206296  0.9193215\n",
      "\t\t 0.9192618  0.91720474 0.917087   0.9168959  0.91673934 0.91079664\n",
      "\t\t 0.9106318  0.90971386 0.9092899  0.9083059  0.9070889  0.906139\n",
      "\t\t 0.90608615 0.9051331  0.9050922  0.90492857 0.9044292  0.90404534\n",
      "\t\t 0.9039157  0.90370154]\n",
      "[INFO] Topic #01:\n",
      "     > From Reduced Model:False.\n",
      "     > Topic Size:801.\n",
      "     > Topic Words: ['mass' 'forces' 'tweet' 'hoping' 'tweets' 'damn' 'pretty' 'crazy' 'abc'\n",
      "\t\t 'without' 'zone' 'thing' 'let' 'oakland' 'wow' 'he' 'closed' 'something'\n",
      "\t\t 'house' 'car' 'francisco' 'lmao' 'these' 'streets' 'schools' 'your'\n",
      "\t\t 'second' 'change' 'anyone' 'houston' 'trippin' 'back' 'on' 'gt' 'make'\n",
      "\t\t 'every' 'still' 'rosa' 'going' 'rainfall' 'there' 'im' 'then' 'cyclone'\n",
      "\t\t 'latest' 'off' 'due' 'floodwaters' 'had' 'flash']\n",
      "     > Topic Word Scores: [-0.30699274 -0.3761855  -0.44526303 -0.4894094  -0.504624   -0.504849\n",
      "\t\t -0.5154637  -0.5165405  -0.53375465 -0.53554946 -0.53876054 -0.5423842\n",
      "\t\t -0.5568318  -0.5687288  -0.57272476 -0.57405317 -0.580136   -0.58783334\n",
      "\t\t -0.5905056  -0.5956398  -0.5977948  -0.6119297  -0.617888   -0.6295158\n",
      "\t\t -0.6309338  -0.6325243  -0.64003783 -0.6409456  -0.6416762  -0.6445628\n",
      "\t\t -0.64508593 -0.6514398  -0.6517135  -0.65320885 -0.6587654  -0.65884876\n",
      "\t\t -0.6604224  -0.66143805 -0.66182613 -0.66216475 -0.66372234 -0.6644628\n",
      "\t\t -0.6659029  -0.6659665  -0.66876775 -0.6707387  -0.6720283  -0.6732613\n",
      "\t\t -0.673283   -0.67337567]\n",
      "[INFO] Top2Vec successfully terminated for data:\"crisis_12\".\n",
      "[INFO] Creating Topic Similarity Matrix..\n"
     ]
    },
    {
     "name": "stderr",
     "output_type": "stream",
     "text": [
      "[0826/140333.457471:WARNING:sandbox_linux.cc(376)] InitializeSandbox() called with multiple threads in process gpu-process.\n",
      "[0826/140333.472516:WARNING:bluez_dbus_manager.cc(247)] Floss manager not present, cannot set Floss enable/disable.\n",
      "[0826/140333.931813:INFO:headless_shell.cc(660)] Written to file /home/iceking/Desktop/22SS-TUM Lecture Docs/3. Praktikum (IN2106, IN4249)/Repo/topic-modeling-advancements/output/1661515374_top2vec/vis_topic_similarity_matrix.png.\n"
     ]
    },
    {
     "name": "stdout",
     "output_type": "stream",
     "text": [
      "[INFO] Created Topic Similarity Matrix successfully.\n",
      "[INFO] Creating Labels Per Topic Visualization..\n"
     ]
    },
    {
     "name": "stderr",
     "output_type": "stream",
     "text": [
      "[0826/140334.247084:WARNING:sandbox_linux.cc(376)] InitializeSandbox() called with multiple threads in process gpu-process.\n",
      "[0826/140334.261952:WARNING:bluez_dbus_manager.cc(247)] Floss manager not present, cannot set Floss enable/disable.\n",
      "[0826/140334.713071:INFO:headless_shell.cc(660)] Written to file /home/iceking/Desktop/22SS-TUM Lecture Docs/3. Praktikum (IN2106, IN4249)/Repo/topic-modeling-advancements/output/1661515374_top2vec/vis_labels_per_topic.png.\n"
     ]
    },
    {
     "name": "stdout",
     "output_type": "stream",
     "text": [
      "[INFO] Created Labels Per Topic Visualization successfully.\n",
      "[INFO] Creating Top Words Barchart Visualization..\n"
     ]
    },
    {
     "name": "stderr",
     "output_type": "stream",
     "text": [
      "[0826/140335.031516:WARNING:sandbox_linux.cc(376)] InitializeSandbox() called with multiple threads in process gpu-process.\n",
      "[0826/140335.045893:WARNING:bluez_dbus_manager.cc(247)] Floss manager not present, cannot set Floss enable/disable.\n",
      "[0826/140335.446678:INFO:headless_shell.cc(660)] Written to file /home/iceking/Desktop/22SS-TUM Lecture Docs/3. Praktikum (IN2106, IN4249)/Repo/topic-modeling-advancements/output/1661515374_top2vec/vis_top_words_barchart.png.\n"
     ]
    },
    {
     "name": "stdout",
     "output_type": "stream",
     "text": [
      "[INFO] Created Top Words Barchart Visualization successfully.\n",
      "[INFO] [MAIN RUNNER] Example Config #0 executed successfully.\n",
      "--------------------------------\n",
      "[INFO] [MAIN RUNNER] Example Config #1 is running..\n",
      "[INFO] [PREPROCESSOR] Available Preprocessing Functions in the Module:['to_lowercase', 'standardize_accented_chars', 'remove_url', 'expand_missing_delimiter', 'remove_mentions', 'remove_hashtags', 'keep_only_alphabet', 'remove_new_lines', 'remove_extra_spaces', 'remove_html_tags', 'expand_contractions', 'remove_english_stop_words', 'lemmatize', 'lemmatize_verb', 'lemmatize_noun', 'lemmatize_adjective', 'correct_typo']\n",
      "[INFO] [PREPROCESSOR] Preprocessing starting..\n",
      "[INFO] [PREPROCESSOR] These string preprocessing methods will be applied to the data in order:\n",
      "(  'to_lowercase',\n",
      "   'standardize_accented_chars',\n",
      "   'remove_url',\n",
      "   'remove_mentions',\n",
      "   'remove_hashtags',\n",
      "   'keep_only_alphabet')\n",
      "[INFO] [PREPROCESSOR] Then, these tokenized preprocessing methods will be applied in order:\n",
      "(  '__tokenize',\n",
      "   'expand_contractions',\n",
      "   'remove_english_stop_words',\n",
      "   'lemmatize_noun',\n",
      "   '__glue')\n",
      "[INFO] [PREPROCESSOR] Preprocessing completed in 1.573 seconds..\n",
      "[INFO] Running with 4 topics.\n",
      "[WARN] Lda-Bert is experimental and use with caution!\n",
      "[INFO] The embedding model folder:\"./pretrained_models/sentence-transformers_all-mpnet-base-v2\" found, so no need to download.\n",
      "[INFO] The embedding model folder:\"./pretrained_models/sentence-transformers_all-distilroberta-v1\" found, so no need to download.\n",
      "[INFO] The embedding model folder:\"./pretrained_models/sentence-transformers_all-MiniLM-L12-v2\" found, so no need to download.\n",
      "[INFO] The embedding model folder:\"./pretrained_models/sentence-transformers_all-MiniLM-L6-v2\" found, so no need to download.\n",
      "[INFO] The embedding model folder:\"./pretrained_models/sentence-transformers_paraphrase-multilingual-MiniLM-L12-v2\" found, so no need to download.\n",
      "[INFO] Embeddings are being encoded..\n"
     ]
    },
    {
     "data": {
      "application/vnd.jupyter.widget-view+json": {
       "model_id": "c841409884e34215b3e261931079038d",
       "version_major": 2,
       "version_minor": 0
      },
      "text/plain": [
       "Batches:   0%|          | 0/642 [00:00<?, ?it/s]"
      ]
     },
     "metadata": {},
     "output_type": "display_data"
    },
    {
     "name": "stdout",
     "output_type": "stream",
     "text": [
      "[INFO] Embeddings encoded successfully.\n",
      "[INFO] Embedding Model created with SentenceTransformer.\n",
      "[INFO] Tokenizing raw texts...\n",
      "[INFO] Tokenizing raw texts. Done!\n",
      "Clustering embeddings ...\n",
      "[INFO] Getting vector representations for LDA ...\n",
      "Getting vector representations for LDA. Done!\n",
      "[INFO] Getting vector representations for BERT ...\n",
      "[INFO] Getting vector representations for BERT. Done!\n",
      "Fitting Autoencoder ...\n",
      "Fitting Autoencoder Done!\n",
      "642/642 [==============================] - 1s 747us/step\n",
      "Clustering embeddings. Done!\n",
      "[INFO] Creating Topic Similarity Matrix..\n"
     ]
    },
    {
     "name": "stderr",
     "output_type": "stream",
     "text": [
      "[0826/141209.717772:WARNING:sandbox_linux.cc(376)] InitializeSandbox() called with multiple threads in process gpu-process.\n",
      "[0826/141209.728220:WARNING:bluez_dbus_manager.cc(247)] Floss manager not present, cannot set Floss enable/disable.\n",
      "[0826/141210.290350:INFO:headless_shell.cc(660)] Written to file /home/iceking/Desktop/22SS-TUM Lecture Docs/3. Praktikum (IN2106, IN4249)/Repo/topic-modeling-advancements/output/1661515415_lda-bert/vis_topic_similarity_matrix.png.\n"
     ]
    },
    {
     "name": "stdout",
     "output_type": "stream",
     "text": [
      "[INFO] Created Topic Similarity Matrix successfully.\n",
      "[INFO] Creating Labels Per Topic Visualization..\n"
     ]
    },
    {
     "name": "stderr",
     "output_type": "stream",
     "text": [
      "[0826/141210.705876:WARNING:sandbox_linux.cc(376)] InitializeSandbox() called with multiple threads in process gpu-process.\n",
      "[0826/141210.721712:WARNING:bluez_dbus_manager.cc(247)] Floss manager not present, cannot set Floss enable/disable.\n",
      "[0826/141211.362620:INFO:headless_shell.cc(660)] Written to file /home/iceking/Desktop/22SS-TUM Lecture Docs/3. Praktikum (IN2106, IN4249)/Repo/topic-modeling-advancements/output/1661515415_lda-bert/vis_labels_per_topic.png.\n"
     ]
    },
    {
     "name": "stdout",
     "output_type": "stream",
     "text": [
      "[INFO] Created Labels Per Topic Visualization successfully.\n",
      "[INFO] Creating Top Words Barchart Visualization..\n"
     ]
    },
    {
     "name": "stderr",
     "output_type": "stream",
     "text": [
      "[0826/141211.697633:WARNING:sandbox_linux.cc(376)] InitializeSandbox() called with multiple threads in process gpu-process.\n",
      "[0826/141211.713040:WARNING:bluez_dbus_manager.cc(247)] Floss manager not present, cannot set Floss enable/disable.\n",
      "[0826/141212.155371:INFO:headless_shell.cc(660)] Written to file /home/iceking/Desktop/22SS-TUM Lecture Docs/3. Praktikum (IN2106, IN4249)/Repo/topic-modeling-advancements/output/1661515415_lda-bert/vis_top_words_barchart.png.\n"
     ]
    },
    {
     "name": "stdout",
     "output_type": "stream",
     "text": [
      "[INFO] Created Top Words Barchart Visualization successfully.\n",
      "[INFO] [MAIN RUNNER] Example Config #1 executed successfully.\n",
      "--------------------------------\n",
      "[INFO] [MAIN RUNNER] Example Config #2 is running..\n",
      "[WARN] [PREPROCESSOR] Preprocessing functions are empty or None, given:\"[]\", preprocessing is skipped.\n",
      "[INFO] Running with 4 topics.\n",
      "[WARN] CTM is experimental and does not guarantee reproducibility. Please use with caution!\n",
      "[INFO] The embedding model folder:\"./pretrained_models/sentence-transformers_bert-base-nli-mean-tokens\" found, so no need to download.\n",
      "[INFO] The embedding model folder:\"./pretrained_models/sentence-transformers_all-mpnet-base-v2\" found, so no need to download.\n",
      "[INFO] The embedding model folder:\"./pretrained_models/sentence-transformers_all-distilroberta-v1\" found, so no need to download.\n",
      "[INFO] The embedding model folder:\"./pretrained_models/sentence-transformers_all-MiniLM-L12-v2\" found, so no need to download.\n",
      "[INFO] The embedding model folder:\"./pretrained_models/sentence-transformers_all-MiniLM-L6-v2\" found, so no need to download.\n",
      "[INFO] The embedding model folder:\"./pretrained_models/sentence-transformers_paraphrase-multilingual-MiniLM-L12-v2\" found, so no need to download.\n",
      "[INFO] Model is training..\n"
     ]
    },
    {
     "data": {
      "application/vnd.jupyter.widget-view+json": {
       "model_id": "9cd66fefa2b141f8860992f0f6e3dd70",
       "version_major": 2,
       "version_minor": 0
      },
      "text/plain": [
       "Batches:   0%|          | 0/64 [00:00<?, ?it/s]"
      ]
     },
     "metadata": {},
     "output_type": "display_data"
    },
    {
     "data": {
      "application/vnd.jupyter.widget-view+json": {
       "model_id": "973f70ecccc2410e97c05abd69bc56ec",
       "version_major": 2,
       "version_minor": 0
      },
      "text/plain": [
       "Batches:   0%|          | 0/8 [00:00<?, ?it/s]"
      ]
     },
     "metadata": {},
     "output_type": "display_data"
    },
    {
     "data": {
      "application/vnd.jupyter.widget-view+json": {
       "model_id": "dd650a5bc45c4a3f9e0f4900ce4bfe52",
       "version_major": 2,
       "version_minor": 0
      },
      "text/plain": [
       "Batches:   0%|          | 0/8 [00:00<?, ?it/s]"
      ]
     },
     "metadata": {},
     "output_type": "display_data"
    },
    {
     "name": "stdout",
     "output_type": "stream",
     "text": [
      "[INFO] Model trained successfully!\n",
      "[INFO] Creating Labels Per Topic Visualization..\n"
     ]
    },
    {
     "name": "stderr",
     "output_type": "stream",
     "text": [
      "[0826/141507.078090:WARNING:sandbox_linux.cc(376)] InitializeSandbox() called with multiple threads in process gpu-process.\n",
      "[0826/141507.102664:WARNING:bluez_dbus_manager.cc(247)] Floss manager not present, cannot set Floss enable/disable.\n",
      "[0826/141507.801916:INFO:headless_shell.cc(660)] Written to file /home/iceking/Desktop/22SS-TUM Lecture Docs/3. Praktikum (IN2106, IN4249)/Repo/topic-modeling-advancements/output/1661515932_ctm/vis_labels_per_topic.png.\n"
     ]
    },
    {
     "name": "stdout",
     "output_type": "stream",
     "text": [
      "[INFO] Created Labels Per Topic Visualization successfully.\n",
      "[INFO] Creating Top Words Barchart Visualization..\n"
     ]
    },
    {
     "name": "stderr",
     "output_type": "stream",
     "text": [
      "[0826/141508.131685:WARNING:sandbox_linux.cc(376)] InitializeSandbox() called with multiple threads in process gpu-process.\n",
      "[0826/141508.140841:WARNING:bluez_dbus_manager.cc(247)] Floss manager not present, cannot set Floss enable/disable.\n",
      "[0826/141508.634853:INFO:headless_shell.cc(660)] Written to file /home/iceking/Desktop/22SS-TUM Lecture Docs/3. Praktikum (IN2106, IN4249)/Repo/topic-modeling-advancements/output/1661515932_ctm/vis_top_words_barchart.png.\n"
     ]
    },
    {
     "name": "stdout",
     "output_type": "stream",
     "text": [
      "[INFO] Created Top Words Barchart Visualization successfully.\n",
      "[INFO] [MAIN RUNNER] Example Config #2 executed successfully.\n",
      "--------------------------------\n",
      "[INFO] [MAIN RUNNER] Example Config #3 is running..\n",
      "[INFO] [PREPROCESSOR] Available Preprocessing Functions in the Module:['to_lowercase', 'standardize_accented_chars', 'remove_url', 'expand_missing_delimiter', 'remove_mentions', 'remove_hashtags', 'keep_only_alphabet', 'remove_new_lines', 'remove_extra_spaces', 'remove_html_tags', 'expand_contractions', 'remove_english_stop_words', 'lemmatize', 'lemmatize_verb', 'lemmatize_noun', 'lemmatize_adjective', 'correct_typo']\n",
      "[INFO] [PREPROCESSOR] Preprocessing starting..\n",
      "[INFO] [PREPROCESSOR] These string preprocessing methods will be applied to the data in order:\n",
      "(  'to_lowercase',\n",
      "   'standardize_accented_chars',\n",
      "   'remove_url',\n",
      "   'expand_missing_delimiter',\n",
      "   'remove_mentions',\n",
      "   'remove_hashtags',\n",
      "   'remove_new_lines',\n",
      "   'keep_only_alphabet')\n",
      "[INFO] [PREPROCESSOR] Then, these tokenized preprocessing methods will be applied in order:\n",
      "(  '__tokenize',\n",
      "   'expand_contractions',\n",
      "   'remove_english_stop_words',\n",
      "   'lemmatize_noun',\n",
      "   '__glue')\n",
      "[INFO] [PREPROCESSOR] Preprocessing completed in 7.918 seconds..\n",
      "[INFO] Running with 4 topics.\n",
      "[INFO] Model is training..\n",
      "[INFO] Model trained successfully!\n",
      "[INFO] Creating Labels Per Topic Visualization..\n"
     ]
    },
    {
     "name": "stderr",
     "output_type": "stream",
     "text": [
      "[0826/141732.885672:WARNING:sandbox_linux.cc(376)] InitializeSandbox() called with multiple threads in process gpu-process.\n",
      "[0826/141732.899504:WARNING:bluez_dbus_manager.cc(247)] Floss manager not present, cannot set Floss enable/disable.\n",
      "[0826/141733.520865:INFO:headless_shell.cc(660)] Written to file /home/iceking/Desktop/22SS-TUM Lecture Docs/3. Praktikum (IN2106, IN4249)/Repo/topic-modeling-advancements/output/1661516108_lda/vis_labels_per_topic.png.\n"
     ]
    },
    {
     "name": "stdout",
     "output_type": "stream",
     "text": [
      "[INFO] Created Labels Per Topic Visualization successfully.\n",
      "[INFO] Creating Top Words Barchart Visualization..\n"
     ]
    },
    {
     "name": "stderr",
     "output_type": "stream",
     "text": [
      "[0826/141733.804977:WARNING:sandbox_linux.cc(376)] InitializeSandbox() called with multiple threads in process gpu-process.\n",
      "[0826/141733.820090:WARNING:bluez_dbus_manager.cc(247)] Floss manager not present, cannot set Floss enable/disable.\n",
      "[0826/141734.277837:INFO:headless_shell.cc(660)] Written to file /home/iceking/Desktop/22SS-TUM Lecture Docs/3. Praktikum (IN2106, IN4249)/Repo/topic-modeling-advancements/output/1661516108_lda/vis_top_words_barchart.png.\n"
     ]
    },
    {
     "name": "stdout",
     "output_type": "stream",
     "text": [
      "[INFO] Created Top Words Barchart Visualization successfully.\n",
      "[INFO] [MAIN RUNNER] Example Config #3 executed successfully.\n",
      "--------------------------------\n",
      "[INFO] [MAIN RUNNER] Example Config #4 is running..\n",
      "[INFO] [PREPROCESSOR] Available Preprocessing Functions in the Module:['to_lowercase', 'standardize_accented_chars', 'remove_url', 'expand_missing_delimiter', 'remove_mentions', 'remove_hashtags', 'keep_only_alphabet', 'remove_new_lines', 'remove_extra_spaces', 'remove_html_tags', 'expand_contractions', 'remove_english_stop_words', 'lemmatize', 'lemmatize_verb', 'lemmatize_noun', 'lemmatize_adjective', 'correct_typo']\n",
      "[INFO] [PREPROCESSOR] Preprocessing starting..\n",
      "[INFO] [PREPROCESSOR] These string preprocessing methods will be applied to the data in order:\n",
      "(  'to_lowercase',\n",
      "   'standardize_accented_chars',\n",
      "   'remove_url',\n",
      "   'expand_missing_delimiter',\n",
      "   'remove_mentions',\n",
      "   'remove_hashtags',\n",
      "   'remove_new_lines',\n",
      "   'keep_only_alphabet')\n",
      "[INFO] [PREPROCESSOR] Then, these tokenized preprocessing methods will be applied in order:\n",
      "(  '__tokenize',\n",
      "   'expand_contractions',\n",
      "   'remove_english_stop_words',\n",
      "   'lemmatize_noun',\n",
      "   '__glue')\n",
      "[INFO] [PREPROCESSOR] Preprocessing completed in 29.927 seconds..\n",
      "[INFO] Running with 4 topics.\n",
      "[INFO] Model is training..\n",
      "[INFO] Model trained successfully!\n",
      "[INFO] Creating Labels Per Topic Visualization..\n"
     ]
    },
    {
     "name": "stderr",
     "output_type": "stream",
     "text": [
      "[0826/142429.105023:WARNING:sandbox_linux.cc(376)] InitializeSandbox() called with multiple threads in process gpu-process.\n",
      "[0826/142429.116243:WARNING:bluez_dbus_manager.cc(247)] Floss manager not present, cannot set Floss enable/disable.\n",
      "[0826/142429.704912:INFO:headless_shell.cc(660)] Written to file /home/iceking/Desktop/22SS-TUM Lecture Docs/3. Praktikum (IN2106, IN4249)/Repo/topic-modeling-advancements/output/1661516254_nmf/vis_labels_per_topic.png.\n"
     ]
    },
    {
     "name": "stdout",
     "output_type": "stream",
     "text": [
      "[INFO] Created Labels Per Topic Visualization successfully.\n",
      "[INFO] Creating Top Words Barchart Visualization..\n"
     ]
    },
    {
     "name": "stderr",
     "output_type": "stream",
     "text": [
      "[0826/142430.007711:WARNING:sandbox_linux.cc(376)] InitializeSandbox() called with multiple threads in process gpu-process.\n",
      "[0826/142430.021517:WARNING:bluez_dbus_manager.cc(247)] Floss manager not present, cannot set Floss enable/disable.\n",
      "[0826/142430.513487:INFO:headless_shell.cc(660)] Written to file /home/iceking/Desktop/22SS-TUM Lecture Docs/3. Praktikum (IN2106, IN4249)/Repo/topic-modeling-advancements/output/1661516254_nmf/vis_top_words_barchart.png.\n"
     ]
    },
    {
     "name": "stdout",
     "output_type": "stream",
     "text": [
      "[INFO] Created Top Words Barchart Visualization successfully.\n",
      "[INFO] [MAIN RUNNER] Example Config #4 executed successfully.\n",
      "--------------------------------\n",
      "[INFO] [MAIN RUNNER] Example Config #5 is running..\n",
      "[WARN] [PREPROCESSOR] Preprocessing functions are empty or None, given:\"[]\", preprocessing is skipped.\n",
      "[INFO] Running with 10 topics.\n",
      "[INFO] The embedding model folder:\"./pretrained_models/sentence-transformers_all-mpnet-base-v2\" found, so no need to download.\n",
      "[INFO] The embedding model folder:\"./pretrained_models/sentence-transformers_all-distilroberta-v1\" found, so no need to download.\n",
      "[INFO] The embedding model folder:\"./pretrained_models/sentence-transformers_all-MiniLM-L12-v2\" found, so no need to download.\n",
      "[INFO] The embedding model folder:\"./pretrained_models/sentence-transformers_all-MiniLM-L6-v2\" found, so no need to download.\n",
      "[INFO] The embedding model folder:\"./pretrained_models/sentence-transformers_paraphrase-multilingual-MiniLM-L12-v2\" found, so no need to download.\n",
      "[INFO] Embeddings are being encoded..\n"
     ]
    },
    {
     "data": {
      "application/vnd.jupyter.widget-view+json": {
       "model_id": "1e4db4e0408446d2aa6b89eee80cd851",
       "version_major": 2,
       "version_minor": 0
      },
      "text/plain": [
       "Batches:   0%|          | 0/1875 [00:00<?, ?it/s]"
      ]
     },
     "metadata": {},
     "output_type": "display_data"
    }
   ],
   "source": [
    "for i,example_config in enumerate(example_configs):\n",
    "    print(f'[INFO] [MAIN RUNNER] Example Config #{i} is running..')\n",
    "    main_runner(config=example_config)\n",
    "    print(f'[INFO] [MAIN RUNNER] Example Config #{i} executed successfully.')\n",
    "    print('-'*32)\n"
   ]
  },
  {
   "cell_type": "code",
   "execution_count": null,
   "id": "be553556",
   "metadata": {},
   "outputs": [],
   "source": []
  }
 ],
 "metadata": {
  "kernelspec": {
   "display_name": "Python 3 (ipykernel)",
   "language": "python",
   "name": "python3"
  },
  "language_info": {
   "codemirror_mode": {
    "name": "ipython",
    "version": 3
   },
   "file_extension": ".py",
   "mimetype": "text/x-python",
   "name": "python",
   "nbconvert_exporter": "python",
   "pygments_lexer": "ipython3",
   "version": "3.8.10"
  }
 },
 "nbformat": 4,
 "nbformat_minor": 5
}
