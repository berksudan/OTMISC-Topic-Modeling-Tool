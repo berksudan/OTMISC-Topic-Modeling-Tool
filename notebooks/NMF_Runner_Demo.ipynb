{
 "cells": [
  {
   "cell_type": "markdown",
   "id": "9a570f6d",
   "metadata": {},
   "source": [
    "## 0. Code Setup and Helper Functions"
   ]
  },
  {
   "cell_type": "markdown",
   "id": "61510b1e",
   "metadata": {},
   "source": [
    "### 0.1 Path Adjustments"
   ]
  },
  {
   "cell_type": "code",
   "execution_count": 1,
   "id": "80cf0947",
   "metadata": {},
   "outputs": [
    {
     "name": "stdout",
     "output_type": "stream",
     "text": [
      "[INFO] Current Directory: \"/home/iceking/Desktop/22SS-TUM Lecture Docs/3. Praktikum (IN2106, IN4249)/Repo/topic-modeling-advancements\".\n"
     ]
    }
   ],
   "source": [
    "import os\n",
    "import sys\n",
    "assert os.path.exists('../src'), f\"[ERROR] The path src not detected in the parent directory '{os.getcwd()}'.\"\n",
    "\n",
    "if os.getcwd().endswith('/notebooks'):\n",
    "    os.chdir('..')\n",
    "    sys.path.append('./src')\n",
    "\n",
    "print(f'[INFO] Current Directory: \"{os.getcwd()}\".')"
   ]
  },
  {
   "cell_type": "markdown",
   "id": "6a64ffab",
   "metadata": {},
   "source": [
    "### 0.2 Import all necessary packages"
   ]
  },
  {
   "cell_type": "code",
   "execution_count": 2,
   "id": "3994b950",
   "metadata": {},
   "outputs": [
    {
     "name": "stderr",
     "output_type": "stream",
     "text": [
      "2022-08-22 21:32:51.448700: W tensorflow/stream_executor/platform/default/dso_loader.cc:64] Could not load dynamic library 'libcudart.so.11.0'; dlerror: libcudart.so.11.0: cannot open shared object file: No such file or directory\n",
      "2022-08-22 21:32:51.448725: I tensorflow/stream_executor/cuda/cudart_stub.cc:29] Ignore above cudart dlerror if you do not have a GPU set up on your machine.\n"
     ]
    }
   ],
   "source": [
    "%load_ext autoreload\n",
    "%autoreload 2\n",
    "\n",
    "import pandas as pd\n",
    "from time import time\n",
    "from src import preprocessor\n",
    "from src.bertopic_runner import BertopicTrainer\n",
    "from src.utils import load_documents"
   ]
  },
  {
   "cell_type": "markdown",
   "id": "b34bbd10",
   "metadata": {},
   "source": [
    "## 1. Train"
   ]
  },
  {
   "cell_type": "code",
   "execution_count": 3,
   "id": "31e10798",
   "metadata": {},
   "outputs": [],
   "source": [
    "configs = {\n",
    "    'dataset': 'ag_news_long',\n",
    "    'preprocessing_funcs': [\n",
    "        'to_lowercase',\n",
    "        'standardize_accented_chars',\n",
    "        'remove_url',\n",
    "        'expand_contractions',\n",
    "        'expand_missing_delimiter',\n",
    "        'remove_mentions',\n",
    "        'remove_hashtags',\n",
    "        'remove_new_lines',\n",
    "        'keep_only_alphabet',\n",
    "        # 'remove_extra_spaces',\n",
    "        'remove_english_stop_words',\n",
    "        'lemmatize_noun',\n",
    "        #'correct_typo'\n",
    "    ],\n",
    "    'algorithm': 'nmf',\n",
    "    'algorithm_args': {\n",
    "            'embedding_model': \"all-MiniLM-L6-v2\",\n",
    "             'num_epochs': 100,\n",
    "           # 'learning_rate': 0.002,\n",
    "            # 'batch_size': 64,\n",
    "            #'embedding_model': \"paraphrase-multilingual-MiniLM-L12-v2\",\n",
    "            'num_topics': 4,\n",
    "            'top_n_words': 10,\n",
    "            'gamma': 10,\n",
    "            'random_state': 42,\n",
    "            'alpha':0.1,\n",
    "    }     \n",
    "}"
   ]
  },
  {
   "cell_type": "code",
   "execution_count": null,
   "id": "2eb985a8",
   "metadata": {},
   "outputs": [
    {
     "name": "stdout",
     "output_type": "stream",
     "text": [
      "[INFO] [PREPROCESSOR] Available Preprocessing Functions in the Module:['to_lowercase', 'standardize_accented_chars', 'remove_url', 'expand_missing_delimiter', 'remove_mentions', 'remove_hashtags', 'keep_only_alphabet', 'remove_new_lines', 'remove_extra_spaces', 'remove_html_tags', 'expand_contractions', 'remove_english_stop_words', 'lemmatize', 'lemmatize_verb', 'lemmatize_noun', 'lemmatize_adjective', 'correct_typo']\n",
      "[INFO] [PREPROCESSOR] Preprocessing starting..\n",
      "[INFO] [PREPROCESSOR] These string preprocessing methods will be applied to the data in order:\n",
      "(  'to_lowercase',\n",
      "   'standardize_accented_chars',\n",
      "   'remove_url',\n",
      "   'expand_missing_delimiter',\n",
      "   'remove_mentions',\n",
      "   'remove_hashtags',\n",
      "   'remove_new_lines',\n",
      "   'keep_only_alphabet')\n",
      "[INFO] [PREPROCESSOR] Then, these tokenized preprocessing methods will be applied in order:\n",
      "(  '__tokenize',\n",
      "   'expand_contractions',\n",
      "   'remove_english_stop_words',\n",
      "   'lemmatize_noun',\n",
      "   '__glue')\n",
      "[INFO] [PREPROCESSOR] Preprocessing completed in 28.531 seconds..\n",
      "Running with 4 topics\n"
     ]
    }
   ],
   "source": [
    "OUTPUT_FOLDER = './output'\n",
    "\n",
    "docs,labels = load_documents(dataset=configs['dataset'])\n",
    "if 'preprocessing_funcs' in configs:\n",
    "    docs = preprocessor.run(data=docs, prep_functions=configs['preprocessing_funcs'])\n",
    "\n",
    "algorithm_args = configs['algorithm_args']\n",
    "algorithm_args.update(data_name=configs['dataset'],docs=docs,labels=labels)\n",
    "print(f'Running with {algorithm_args[\"num_topics\"]} topics')\n",
    "\n",
    "algorithm_name = configs['algorithm']\n",
    "if algorithm_name == 'nmf':\n",
    "    run_id=int(time())\n",
    "    output_folder = f'{OUTPUT_FOLDER}/{run_id}_{algorithm_name}'\n",
    "    if not os.path.exists(output_folder):\n",
    "        os.makedirs(output_folder)\n",
    "    from src import LDA_NMF_CTM_runner\n",
    "    df_output_doc_topic, df_output_topic_word =LDA_NMF_CTM_runner.runner(\n",
    "            args=algorithm_args, run_id=run_id, output_folder=output_folder, model_name=algorithm_name)\n",
    "    \n",
    "    model = None\n",
    "    \n",
    "    from src.evaluator import compute_topic_scores\n",
    "    df_output_topic_word = compute_topic_scores(df_output_doc_topic, df_output_topic_word)"
   ]
  },
  {
   "cell_type": "markdown",
   "id": "1d943fe4",
   "metadata": {},
   "source": [
    "## 2. Display Outputs"
   ]
  },
  {
   "cell_type": "code",
   "execution_count": null,
   "id": "57544ab4",
   "metadata": {},
   "outputs": [],
   "source": [
    "df_output_doc_topic"
   ]
  },
  {
   "cell_type": "code",
   "execution_count": null,
   "id": "55dfda8c",
   "metadata": {},
   "outputs": [],
   "source": [
    "with pd.option_context('display.max_colwidth', 100):\n",
    "    display(df_output_topic_word)"
   ]
  },
  {
   "cell_type": "code",
   "execution_count": null,
   "id": "ce1eb955",
   "metadata": {},
   "outputs": [],
   "source": [
    "# First Documents\n",
    "for i in sorted(df_output_topic_word['topic_num'].to_list()):\n",
    "    x = df_output_doc_topic.query(f'`Assigned Topic Num` == {i}').sort_values(by ='Assignment Score',ascending=False).drop('run_id',axis=1).head()\n",
    "    with pd.option_context('display.max_colwidth', None):\n",
    "        display(x)"
   ]
  },
  {
   "cell_type": "markdown",
   "id": "2ab8c695",
   "metadata": {},
   "source": [
    "## 3. Visualization"
   ]
  },
  {
   "cell_type": "markdown",
   "id": "83e2b7f3",
   "metadata": {},
   "source": [
    "### 3.1 Visualization - UMAP 2D Scatter Plot"
   ]
  },
  {
   "cell_type": "code",
   "execution_count": null,
   "id": "f5d5dee2",
   "metadata": {},
   "outputs": [],
   "source": [
    "# from src import visualizer\n",
    "\n",
    "# umap2d_scatter_plot = visualizer.draw_umap2d_scatter_plot(model, df_output_topic_word,df_output_doc_topic,target_dir='.')"
   ]
  },
  {
   "cell_type": "markdown",
   "id": "9dc906f8",
   "metadata": {},
   "source": [
    "### 3.2 Visualization - Topic Words Bar Chart"
   ]
  },
  {
   "cell_type": "code",
   "execution_count": null,
   "id": "be90ace9",
   "metadata": {},
   "outputs": [],
   "source": [
    "df_output_topic_word"
   ]
  },
  {
   "cell_type": "code",
   "execution_count": null,
   "id": "daed003e",
   "metadata": {},
   "outputs": [],
   "source": [
    "from src import visualizer\n",
    "\n",
    "top_words_barchart = visualizer.visualize_top_words_barchart(df_output_topic_word=df_output_topic_word,n_words=5,target_dir='./',top_n_topics=10)\n",
    "top_words_barchart"
   ]
  },
  {
   "cell_type": "markdown",
   "id": "bfbb493b",
   "metadata": {},
   "source": [
    "### 3.3 Visualization - Labels per Topic"
   ]
  },
  {
   "cell_type": "code",
   "execution_count": null,
   "id": "abb8c9a3",
   "metadata": {},
   "outputs": [],
   "source": [
    "from src import visualizer\n",
    "labels_per_topic = visualizer.visualize_labels_per_topic(df_output_doc_topic=df_output_doc_topic,\n",
    "                               df_output_topic_word=df_output_topic_word) #,top_n_labels=5,top_n_topics=4)\n",
    "labels_per_topic"
   ]
  },
  {
   "cell_type": "markdown",
   "id": "8fd58aa4",
   "metadata": {},
   "source": [
    "### 3.4 Visualization - Topic Similarity Matrix"
   ]
  },
  {
   "cell_type": "code",
   "execution_count": null,
   "id": "cd80703b",
   "metadata": {},
   "outputs": [],
   "source": [
    "import random"
   ]
  },
  {
   "cell_type": "code",
   "execution_count": null,
   "id": "84bb8868",
   "metadata": {},
   "outputs": [],
   "source": [
    "random.sample(list(range(1,20)), 5)"
   ]
  },
  {
   "cell_type": "code",
   "execution_count": null,
   "id": "af2c8d66",
   "metadata": {},
   "outputs": [],
   "source": [
    "from src import visualizer\n",
    "\n",
    "# visualizer.visualize_topic_similarity_matrix(\n",
    "#    model=model,\n",
    "#    df_output_doc_topic=df_output_doc_topic,\n",
    "#    df_output_topic_word=df_output_topic_word,\n",
    "#    topics= None,\n",
    "#    top_n_topics = None,\n",
    "#    n_clusters = None, # Unknown for now\n",
    "#    width = 1000,\n",
    "#    height = 1000\n",
    "#)"
   ]
  },
  {
   "cell_type": "markdown",
   "id": "925ed361",
   "metadata": {},
   "source": [
    "### 3.5 Visualization - Representative Docs"
   ]
  },
  {
   "cell_type": "code",
   "execution_count": null,
   "id": "c5b69d4f",
   "metadata": {},
   "outputs": [],
   "source": [
    "from src.visualizer import draw_representative_docs\n",
    "df_style = draw_representative_docs(df_output_doc_topic, top_n_docs = 3)\n",
    "df_style\n",
    "\n",
    "# To save this image:\n",
    "# import dataframe_image as dfi\n",
    "# dfi.export(df_style, 'successful_test.png') # todo: export to file"
   ]
  }
 ],
 "metadata": {
  "kernelspec": {
   "display_name": "Python 3 (ipykernel)",
   "language": "python",
   "name": "python3"
  },
  "language_info": {
   "codemirror_mode": {
    "name": "ipython",
    "version": 3
   },
   "file_extension": ".py",
   "mimetype": "text/x-python",
   "name": "python",
   "nbconvert_exporter": "python",
   "pygments_lexer": "ipython3",
   "version": "3.8.10"
  }
 },
 "nbformat": 4,
 "nbformat_minor": 5
}
