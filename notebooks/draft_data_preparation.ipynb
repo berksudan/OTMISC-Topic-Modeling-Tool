{
 "cells": [
  {
   "cell_type": "markdown",
   "metadata": {},
   "source": [
    "## 0. Code Setup and Helper Functions"
   ]
  },
  {
   "cell_type": "markdown",
   "metadata": {},
   "source": [
    "### 0.1 Import all necessary packages"
   ]
  },
  {
   "cell_type": "code",
   "execution_count": 247,
   "metadata": {},
   "outputs": [],
   "source": [
    "import os\n",
    "import zlib\n",
    "import pickle as pkl\n",
    "import sklearn\n",
    "from pathlib import Path\n",
    "import pandas as pd"
   ]
  },
  {
   "cell_type": "markdown",
   "metadata": {},
   "source": [
    "### 0.2 Path Adjustments"
   ]
  },
  {
   "cell_type": "code",
   "execution_count": 248,
   "metadata": {},
   "outputs": [
    {
     "name": "stdout",
     "output_type": "stream",
     "text": [
      "[INFO] Current Directory: \"/home/iceking/Desktop/22SS-TUM Lecture Docs/3. Master's Practical Course - Machine Learning for Natural Language Processing Applications (IN2106, IN4249)/Repo/topic-modeling-advancements\".\n"
     ]
    }
   ],
   "source": [
    "if os.getcwd().endswith('/notebooks'):\n",
    "    os.chdir('..')\n",
    "\n",
    "assert os.path.exists('./src'), f\"[ERROR] The path src not detected in the current directory '{os.getcwd()}'.\"\n",
    "\n",
    "print(f'[INFO] Current Directory: \"{os.getcwd()}\".')"
   ]
  },
  {
   "cell_type": "markdown",
   "metadata": {},
   "source": [
    "### 0.3 Global Environment Variables"
   ]
  },
  {
   "cell_type": "code",
   "execution_count": 249,
   "metadata": {},
   "outputs": [],
   "source": [
    "PATH_DATASET_ZIP = './data/raw/eyewitness_tweets_annotations_14k_public.zip'\n",
    "PATH_DATASET_ZIP_SUBDIR = 'eyewitness_tweets_annotations_14k_public/labeled_by_crowdflower_paid_workers'\n",
    "PATH_PREPROCESSED_DATA_DIR = './data/preprocessed'\n",
    "DATA_NAME = 'cubicasa_resource_12'"
   ]
  },
  {
   "cell_type": "markdown",
   "metadata": {},
   "source": [
    "## 1. Preprocess"
   ]
  },
  {
   "cell_type": "code",
   "execution_count": 227,
   "metadata": {},
   "outputs": [],
   "source": [
    "path_preprocessed_data_dir = Path(PATH_PREPROCESSED_DATA_DIR)\n",
    "path_data_zip = Path(PATH_DATA_ZIP)\n",
    "path_dataset_zip_subdir = Path(PATH_DATASET_ZIP_SUBDIR)\n",
    "path_preprocessed_data = Path(f'{path_preprocessed_data_dir}/{DATA_NAME}')\n",
    "\n",
    "if not path_preprocessed_data_dir.exists():\n",
    "    path_preprocessed_data.mkdir()\n",
    "\n",
    "assert path_data_zip.exists(),f'Zip path:\"{path_data_zip}\" cannot be found.'\n",
    "\n",
    "# todo: data_files -> data_filepaths\n",
    "\n",
    "if path_preprocessed_data.exists():\n",
    "    shutil.rmtree(path_preprocessed_data)\n",
    "\n",
    "zip_data_filepaths = [f for f in archive.namelist() if f.startswith(str(path_dataset_zip_subdir)) and not f.endswith('/')]\n",
    "\n",
    "for data_filepath in zip_data_filepaths:\n",
    "    archive.extract(data_filepath, path_preprocessed_data)\n",
    "    shutil.move(src=f'{path_preprocessed_data}/{data_filepath}',dst=path_preprocessed_data)\n",
    "\n",
    "shutil.rmtree(f'{path_preprocessed_data}/{str(zip_data_filepaths[0]).split(\"/\")[0]}')\n",
    "\n",
    "\n",
    "data_files = list(Path(path_preprocessed_data).iterdir())\n",
    "\n",
    "for data_filepath in data_files:\n",
    "    if Path(data_filepath).exists():\n",
    "        csv_delimeter = '\\t' if data_filepath.suffix =='.tsv' else '\\n'\n",
    "        df = pd.read_csv(data_filepath,delimiter=csv_delimeter)\n",
    "        text_filepath = str(data_filepath)[:-len(data_filepath.suffix)] + '.txt'\n",
    "        df[COL_TEXT].to_csv(text_filepath,index=False,header=False)\n",
    "        os.remove(data_filepath)"
   ]
  },
  {
   "cell_type": "markdown",
   "metadata": {},
   "source": [
    "#### gggggggggggggg"
   ]
  },
  {
   "cell_type": "code",
   "execution_count": null,
   "metadata": {},
   "outputs": [],
   "source": []
  },
  {
   "cell_type": "code",
   "execution_count": 253,
   "metadata": {},
   "outputs": [],
   "source": [
    "decompressed_pkl = zlib.decompress(open('./data/20news_bydate/20news-bydate_py3.pkz','rb').read())\n",
    "\n",
    "data = pkl.loads(decompressed_pkl)"
   ]
  },
  {
   "cell_type": "code",
   "execution_count": 255,
   "metadata": {},
   "outputs": [
    {
     "data": {
      "text/plain": [
       "dict_keys(['train', 'test'])"
      ]
     },
     "execution_count": 255,
     "metadata": {},
     "output_type": "execute_result"
    }
   ],
   "source": [
    "data.keys()"
   ]
  },
  {
   "cell_type": "code",
   "execution_count": 251,
   "metadata": {},
   "outputs": [],
   "source": [
    "x = data['train'] # type: sklearn.utils.Bunch"
   ]
  },
  {
   "cell_type": "code",
   "execution_count": 252,
   "metadata": {},
   "outputs": [
    {
     "data": {
      "text/plain": [
       "11314"
      ]
     },
     "execution_count": 252,
     "metadata": {},
     "output_type": "execute_result"
    }
   ],
   "source": [
    "len(x.filenames)"
   ]
  },
  {
   "cell_type": "code",
   "execution_count": null,
   "metadata": {},
   "outputs": [],
   "source": [
    "x"
   ]
  },
  {
   "cell_type": "code",
   "execution_count": 257,
   "metadata": {},
   "outputs": [
    {
     "data": {
      "text/plain": [
       "list"
      ]
     },
     "execution_count": 257,
     "metadata": {},
     "output_type": "execute_result"
    }
   ],
   "source": [
    "type(data['train'].data)"
   ]
  },
  {
   "cell_type": "code",
   "execution_count": 51,
   "metadata": {},
   "outputs": [
    {
     "data": {
      "text/plain": [
       "dict_keys(['data', 'filenames', 'target_names', 'target', 'DESCR'])"
      ]
     },
     "execution_count": 51,
     "metadata": {},
     "output_type": "execute_result"
    }
   ],
   "source": [
    "x.keys()"
   ]
  },
  {
   "cell_type": "code",
   "execution_count": null,
   "metadata": {},
   "outputs": [],
   "source": []
  }
 ],
 "metadata": {
  "kernelspec": {
   "display_name": "Python 3",
   "language": "python",
   "name": "python3"
  },
  "language_info": {
   "codemirror_mode": {
    "name": "ipython",
    "version": 3
   },
   "file_extension": ".py",
   "mimetype": "text/x-python",
   "name": "python",
   "nbconvert_exporter": "python",
   "pygments_lexer": "ipython3",
   "version": "3.8.3"
  }
 },
 "nbformat": 4,
 "nbformat_minor": 5
}
