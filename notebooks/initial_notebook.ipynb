{
 "cells": [
  {
   "cell_type": "markdown",
   "id": "0ea6d62f",
   "metadata": {},
   "source": [
    "## 0. Code Setup and Helper Functions"
   ]
  },
  {
   "cell_type": "markdown",
   "id": "16b2248c",
   "metadata": {},
   "source": [
    "### 0.1 Import all necessary packages"
   ]
  },
  {
   "cell_type": "code",
   "execution_count": 19,
   "id": "4c300695",
   "metadata": {},
   "outputs": [],
   "source": [
    "import os"
   ]
  },
  {
   "cell_type": "markdown",
   "id": "6a64ffab",
   "metadata": {},
   "source": [
    "### 0.2 Path Adjustments"
   ]
  },
  {
   "cell_type": "code",
   "execution_count": 21,
   "id": "3994b950",
   "metadata": {},
   "outputs": [
    {
     "name": "stdout",
     "output_type": "stream",
     "text": [
      "[INFO] Current Directory: \"/home/iceking/Desktop/22SS-TUM Lecture Docs/3. Master's Practical Course - Machine Learning for Natural Language Processing Applications (IN2106, IN4249)/Repo/topic-modeling-advancements\".\n"
     ]
    }
   ],
   "source": [
    "if os.getcwd().endswith('/notebooks'):\n",
    "    os.chdir('..')\n",
    "\n",
    "assert os.path.exists('./src'), f\"[ERROR] The path src not detected in the current directory '{os.getcwd()}'.\"\n",
    "\n",
    "print(f'[INFO] Current Directory: \"{os.getcwd()}\".')"
   ]
  },
  {
   "cell_type": "code",
   "execution_count": null,
   "id": "8b169904",
   "metadata": {},
   "outputs": [],
   "source": []
  }
 ],
 "metadata": {
  "kernelspec": {
   "display_name": "Python 3 (ipykernel)",
   "language": "python",
   "name": "python3"
  },
  "language_info": {
   "codemirror_mode": {
    "name": "ipython",
    "version": 3
   },
   "file_extension": ".py",
   "mimetype": "text/x-python",
   "name": "python",
   "nbconvert_exporter": "python",
   "pygments_lexer": "ipython3",
   "version": "3.8.10"
  }
 },
 "nbformat": 4,
 "nbformat_minor": 5
}
